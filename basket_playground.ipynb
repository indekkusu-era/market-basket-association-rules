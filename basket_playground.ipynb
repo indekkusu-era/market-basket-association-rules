{
 "cells": [
  {
   "cell_type": "code",
   "execution_count": null,
   "metadata": {},
   "outputs": [],
   "source": []
  },
  {
   "cell_type": "code",
   "execution_count": 1,
   "metadata": {},
   "outputs": [],
   "source": [
    "import pandas as pd\n",
    "import numpy as np\n",
    "import matplotlib.pyplot as plt"
   ]
  },
  {
   "cell_type": "code",
   "execution_count": 2,
   "metadata": {},
   "outputs": [],
   "source": [
    "basket = pd.read_csv('basket_dataset/Market_Basket_Optimisation.csv', header=None)"
   ]
  },
  {
   "cell_type": "code",
   "execution_count": 3,
   "metadata": {},
   "outputs": [
    {
     "data": {
      "text/html": [
       "<div>\n",
       "<style scoped>\n",
       "    .dataframe tbody tr th:only-of-type {\n",
       "        vertical-align: middle;\n",
       "    }\n",
       "\n",
       "    .dataframe tbody tr th {\n",
       "        vertical-align: top;\n",
       "    }\n",
       "\n",
       "    .dataframe thead th {\n",
       "        text-align: right;\n",
       "    }\n",
       "</style>\n",
       "<table border=\"1\" class=\"dataframe\">\n",
       "  <thead>\n",
       "    <tr style=\"text-align: right;\">\n",
       "      <th></th>\n",
       "      <th>0</th>\n",
       "      <th>1</th>\n",
       "      <th>2</th>\n",
       "      <th>3</th>\n",
       "      <th>4</th>\n",
       "      <th>5</th>\n",
       "      <th>6</th>\n",
       "      <th>7</th>\n",
       "      <th>8</th>\n",
       "      <th>9</th>\n",
       "      <th>10</th>\n",
       "      <th>11</th>\n",
       "      <th>12</th>\n",
       "      <th>13</th>\n",
       "      <th>14</th>\n",
       "      <th>15</th>\n",
       "      <th>16</th>\n",
       "      <th>17</th>\n",
       "      <th>18</th>\n",
       "      <th>19</th>\n",
       "    </tr>\n",
       "  </thead>\n",
       "  <tbody>\n",
       "    <tr>\n",
       "      <th>0</th>\n",
       "      <td>shrimp</td>\n",
       "      <td>almonds</td>\n",
       "      <td>avocado</td>\n",
       "      <td>vegetables mix</td>\n",
       "      <td>green grapes</td>\n",
       "      <td>whole weat flour</td>\n",
       "      <td>yams</td>\n",
       "      <td>cottage cheese</td>\n",
       "      <td>energy drink</td>\n",
       "      <td>tomato juice</td>\n",
       "      <td>low fat yogurt</td>\n",
       "      <td>green tea</td>\n",
       "      <td>honey</td>\n",
       "      <td>salad</td>\n",
       "      <td>mineral water</td>\n",
       "      <td>salmon</td>\n",
       "      <td>antioxydant juice</td>\n",
       "      <td>frozen smoothie</td>\n",
       "      <td>spinach</td>\n",
       "      <td>olive oil</td>\n",
       "    </tr>\n",
       "    <tr>\n",
       "      <th>1</th>\n",
       "      <td>burgers</td>\n",
       "      <td>meatballs</td>\n",
       "      <td>eggs</td>\n",
       "      <td>NaN</td>\n",
       "      <td>NaN</td>\n",
       "      <td>NaN</td>\n",
       "      <td>NaN</td>\n",
       "      <td>NaN</td>\n",
       "      <td>NaN</td>\n",
       "      <td>NaN</td>\n",
       "      <td>NaN</td>\n",
       "      <td>NaN</td>\n",
       "      <td>NaN</td>\n",
       "      <td>NaN</td>\n",
       "      <td>NaN</td>\n",
       "      <td>NaN</td>\n",
       "      <td>NaN</td>\n",
       "      <td>NaN</td>\n",
       "      <td>NaN</td>\n",
       "      <td>NaN</td>\n",
       "    </tr>\n",
       "    <tr>\n",
       "      <th>2</th>\n",
       "      <td>chutney</td>\n",
       "      <td>NaN</td>\n",
       "      <td>NaN</td>\n",
       "      <td>NaN</td>\n",
       "      <td>NaN</td>\n",
       "      <td>NaN</td>\n",
       "      <td>NaN</td>\n",
       "      <td>NaN</td>\n",
       "      <td>NaN</td>\n",
       "      <td>NaN</td>\n",
       "      <td>NaN</td>\n",
       "      <td>NaN</td>\n",
       "      <td>NaN</td>\n",
       "      <td>NaN</td>\n",
       "      <td>NaN</td>\n",
       "      <td>NaN</td>\n",
       "      <td>NaN</td>\n",
       "      <td>NaN</td>\n",
       "      <td>NaN</td>\n",
       "      <td>NaN</td>\n",
       "    </tr>\n",
       "    <tr>\n",
       "      <th>3</th>\n",
       "      <td>turkey</td>\n",
       "      <td>avocado</td>\n",
       "      <td>NaN</td>\n",
       "      <td>NaN</td>\n",
       "      <td>NaN</td>\n",
       "      <td>NaN</td>\n",
       "      <td>NaN</td>\n",
       "      <td>NaN</td>\n",
       "      <td>NaN</td>\n",
       "      <td>NaN</td>\n",
       "      <td>NaN</td>\n",
       "      <td>NaN</td>\n",
       "      <td>NaN</td>\n",
       "      <td>NaN</td>\n",
       "      <td>NaN</td>\n",
       "      <td>NaN</td>\n",
       "      <td>NaN</td>\n",
       "      <td>NaN</td>\n",
       "      <td>NaN</td>\n",
       "      <td>NaN</td>\n",
       "    </tr>\n",
       "    <tr>\n",
       "      <th>4</th>\n",
       "      <td>mineral water</td>\n",
       "      <td>milk</td>\n",
       "      <td>energy bar</td>\n",
       "      <td>whole wheat rice</td>\n",
       "      <td>green tea</td>\n",
       "      <td>NaN</td>\n",
       "      <td>NaN</td>\n",
       "      <td>NaN</td>\n",
       "      <td>NaN</td>\n",
       "      <td>NaN</td>\n",
       "      <td>NaN</td>\n",
       "      <td>NaN</td>\n",
       "      <td>NaN</td>\n",
       "      <td>NaN</td>\n",
       "      <td>NaN</td>\n",
       "      <td>NaN</td>\n",
       "      <td>NaN</td>\n",
       "      <td>NaN</td>\n",
       "      <td>NaN</td>\n",
       "      <td>NaN</td>\n",
       "    </tr>\n",
       "  </tbody>\n",
       "</table>\n",
       "</div>"
      ],
      "text/plain": [
       "              0          1           2                 3             4   \\\n",
       "0         shrimp    almonds     avocado    vegetables mix  green grapes   \n",
       "1        burgers  meatballs        eggs               NaN           NaN   \n",
       "2        chutney        NaN         NaN               NaN           NaN   \n",
       "3         turkey    avocado         NaN               NaN           NaN   \n",
       "4  mineral water       milk  energy bar  whole wheat rice     green tea   \n",
       "\n",
       "                 5     6               7             8             9   \\\n",
       "0  whole weat flour  yams  cottage cheese  energy drink  tomato juice   \n",
       "1               NaN   NaN             NaN           NaN           NaN   \n",
       "2               NaN   NaN             NaN           NaN           NaN   \n",
       "3               NaN   NaN             NaN           NaN           NaN   \n",
       "4               NaN   NaN             NaN           NaN           NaN   \n",
       "\n",
       "               10         11     12     13             14      15  \\\n",
       "0  low fat yogurt  green tea  honey  salad  mineral water  salmon   \n",
       "1             NaN        NaN    NaN    NaN            NaN     NaN   \n",
       "2             NaN        NaN    NaN    NaN            NaN     NaN   \n",
       "3             NaN        NaN    NaN    NaN            NaN     NaN   \n",
       "4             NaN        NaN    NaN    NaN            NaN     NaN   \n",
       "\n",
       "                  16               17       18         19  \n",
       "0  antioxydant juice  frozen smoothie  spinach  olive oil  \n",
       "1                NaN              NaN      NaN        NaN  \n",
       "2                NaN              NaN      NaN        NaN  \n",
       "3                NaN              NaN      NaN        NaN  \n",
       "4                NaN              NaN      NaN        NaN  "
      ]
     },
     "execution_count": 3,
     "metadata": {},
     "output_type": "execute_result"
    }
   ],
   "source": [
    "basket.head()"
   ]
  },
  {
   "cell_type": "code",
   "execution_count": 4,
   "metadata": {},
   "outputs": [],
   "source": [
    "table = []"
   ]
  },
  {
   "cell_type": "code",
   "execution_count": 5,
   "metadata": {},
   "outputs": [],
   "source": [
    "list_products = np.array(list(set(basket.values.flatten())))"
   ]
  },
  {
   "cell_type": "code",
   "execution_count": 6,
   "metadata": {},
   "outputs": [],
   "source": [
    "list_products = list_products[list_products != 'nan']"
   ]
  },
  {
   "cell_type": "code",
   "execution_count": 7,
   "metadata": {},
   "outputs": [],
   "source": [
    "try:\n",
    "    for b in basket.loc:\n",
    "        table.append(np.isin(list_products, b.values).astype(int))\n",
    "except:\n",
    "    pass"
   ]
  },
  {
   "cell_type": "code",
   "execution_count": 8,
   "metadata": {},
   "outputs": [],
   "source": [
    "basket_encoded = pd.DataFrame(table, columns=list_products)"
   ]
  },
  {
   "cell_type": "code",
   "execution_count": 9,
   "metadata": {},
   "outputs": [
    {
     "data": {
      "text/html": [
       "<div>\n",
       "<style scoped>\n",
       "    .dataframe tbody tr th:only-of-type {\n",
       "        vertical-align: middle;\n",
       "    }\n",
       "\n",
       "    .dataframe tbody tr th {\n",
       "        vertical-align: top;\n",
       "    }\n",
       "\n",
       "    .dataframe thead th {\n",
       "        text-align: right;\n",
       "    }\n",
       "</style>\n",
       "<table border=\"1\" class=\"dataframe\">\n",
       "  <thead>\n",
       "    <tr style=\"text-align: right;\">\n",
       "      <th></th>\n",
       "      <th>green grapes</th>\n",
       "      <th>antioxydant juice</th>\n",
       "      <th>pickles</th>\n",
       "      <th>hand protein bar</th>\n",
       "      <th>cottage cheese</th>\n",
       "      <th>light cream</th>\n",
       "      <th>pet food</th>\n",
       "      <th>toothpaste</th>\n",
       "      <th>cooking oil</th>\n",
       "      <th>shampoo</th>\n",
       "      <th>...</th>\n",
       "      <th>shallot</th>\n",
       "      <th>ground beef</th>\n",
       "      <th>parmesan cheese</th>\n",
       "      <th>mineral water</th>\n",
       "      <th>milk</th>\n",
       "      <th>avocado</th>\n",
       "      <th>chicken</th>\n",
       "      <th>fresh bread</th>\n",
       "      <th>cake</th>\n",
       "      <th>red wine</th>\n",
       "    </tr>\n",
       "  </thead>\n",
       "  <tbody>\n",
       "    <tr>\n",
       "      <th>0</th>\n",
       "      <td>1</td>\n",
       "      <td>1</td>\n",
       "      <td>0</td>\n",
       "      <td>0</td>\n",
       "      <td>1</td>\n",
       "      <td>0</td>\n",
       "      <td>0</td>\n",
       "      <td>0</td>\n",
       "      <td>0</td>\n",
       "      <td>0</td>\n",
       "      <td>...</td>\n",
       "      <td>0</td>\n",
       "      <td>0</td>\n",
       "      <td>0</td>\n",
       "      <td>1</td>\n",
       "      <td>0</td>\n",
       "      <td>1</td>\n",
       "      <td>0</td>\n",
       "      <td>0</td>\n",
       "      <td>0</td>\n",
       "      <td>0</td>\n",
       "    </tr>\n",
       "    <tr>\n",
       "      <th>1</th>\n",
       "      <td>0</td>\n",
       "      <td>0</td>\n",
       "      <td>0</td>\n",
       "      <td>0</td>\n",
       "      <td>0</td>\n",
       "      <td>0</td>\n",
       "      <td>0</td>\n",
       "      <td>0</td>\n",
       "      <td>0</td>\n",
       "      <td>0</td>\n",
       "      <td>...</td>\n",
       "      <td>0</td>\n",
       "      <td>0</td>\n",
       "      <td>0</td>\n",
       "      <td>0</td>\n",
       "      <td>0</td>\n",
       "      <td>0</td>\n",
       "      <td>0</td>\n",
       "      <td>0</td>\n",
       "      <td>0</td>\n",
       "      <td>0</td>\n",
       "    </tr>\n",
       "    <tr>\n",
       "      <th>2</th>\n",
       "      <td>0</td>\n",
       "      <td>0</td>\n",
       "      <td>0</td>\n",
       "      <td>0</td>\n",
       "      <td>0</td>\n",
       "      <td>0</td>\n",
       "      <td>0</td>\n",
       "      <td>0</td>\n",
       "      <td>0</td>\n",
       "      <td>0</td>\n",
       "      <td>...</td>\n",
       "      <td>0</td>\n",
       "      <td>0</td>\n",
       "      <td>0</td>\n",
       "      <td>0</td>\n",
       "      <td>0</td>\n",
       "      <td>0</td>\n",
       "      <td>0</td>\n",
       "      <td>0</td>\n",
       "      <td>0</td>\n",
       "      <td>0</td>\n",
       "    </tr>\n",
       "    <tr>\n",
       "      <th>3</th>\n",
       "      <td>0</td>\n",
       "      <td>0</td>\n",
       "      <td>0</td>\n",
       "      <td>0</td>\n",
       "      <td>0</td>\n",
       "      <td>0</td>\n",
       "      <td>0</td>\n",
       "      <td>0</td>\n",
       "      <td>0</td>\n",
       "      <td>0</td>\n",
       "      <td>...</td>\n",
       "      <td>0</td>\n",
       "      <td>0</td>\n",
       "      <td>0</td>\n",
       "      <td>0</td>\n",
       "      <td>0</td>\n",
       "      <td>1</td>\n",
       "      <td>0</td>\n",
       "      <td>0</td>\n",
       "      <td>0</td>\n",
       "      <td>0</td>\n",
       "    </tr>\n",
       "    <tr>\n",
       "      <th>4</th>\n",
       "      <td>0</td>\n",
       "      <td>0</td>\n",
       "      <td>0</td>\n",
       "      <td>0</td>\n",
       "      <td>0</td>\n",
       "      <td>0</td>\n",
       "      <td>0</td>\n",
       "      <td>0</td>\n",
       "      <td>0</td>\n",
       "      <td>0</td>\n",
       "      <td>...</td>\n",
       "      <td>0</td>\n",
       "      <td>0</td>\n",
       "      <td>0</td>\n",
       "      <td>1</td>\n",
       "      <td>1</td>\n",
       "      <td>0</td>\n",
       "      <td>0</td>\n",
       "      <td>0</td>\n",
       "      <td>0</td>\n",
       "      <td>0</td>\n",
       "    </tr>\n",
       "  </tbody>\n",
       "</table>\n",
       "<p>5 rows × 120 columns</p>\n",
       "</div>"
      ],
      "text/plain": [
       "   green grapes  antioxydant juice  pickles  hand protein bar  cottage cheese  \\\n",
       "0             1                  1        0                 0               1   \n",
       "1             0                  0        0                 0               0   \n",
       "2             0                  0        0                 0               0   \n",
       "3             0                  0        0                 0               0   \n",
       "4             0                  0        0                 0               0   \n",
       "\n",
       "   light cream  pet food  toothpaste  cooking oil  shampoo  ...  shallot  \\\n",
       "0            0         0           0            0        0  ...        0   \n",
       "1            0         0           0            0        0  ...        0   \n",
       "2            0         0           0            0        0  ...        0   \n",
       "3            0         0           0            0        0  ...        0   \n",
       "4            0         0           0            0        0  ...        0   \n",
       "\n",
       "   ground beef  parmesan cheese  mineral water  milk  avocado  chicken  \\\n",
       "0            0                0              1     0        1        0   \n",
       "1            0                0              0     0        0        0   \n",
       "2            0                0              0     0        0        0   \n",
       "3            0                0              0     0        1        0   \n",
       "4            0                0              1     1        0        0   \n",
       "\n",
       "   fresh bread  cake  red wine  \n",
       "0            0     0         0  \n",
       "1            0     0         0  \n",
       "2            0     0         0  \n",
       "3            0     0         0  \n",
       "4            0     0         0  \n",
       "\n",
       "[5 rows x 120 columns]"
      ]
     },
     "execution_count": 9,
     "metadata": {},
     "output_type": "execute_result"
    }
   ],
   "source": [
    "basket_encoded.head()"
   ]
  },
  {
   "cell_type": "code",
   "execution_count": 10,
   "metadata": {},
   "outputs": [],
   "source": [
    "basket_encoded = basket_encoded[basket_encoded.columns[basket_encoded.mean() > 0.05]][basket_encoded.sum(axis=1) > 1]"
   ]
  },
  {
   "cell_type": "code",
   "execution_count": 11,
   "metadata": {},
   "outputs": [],
   "source": [
    "list_products = basket_encoded.columns"
   ]
  },
  {
   "cell_type": "code",
   "execution_count": 12,
   "metadata": {},
   "outputs": [],
   "source": [
    "def generate_permutations(columns, n):\n",
    "    if n == 1:\n",
    "        return [(k,) for k in columns]\n",
    "    permutations = []\n",
    "    for i, c in enumerate(columns):\n",
    "        permutations.extend([(c,) + p for p in generate_permutations(columns[i+1:], n-1)])\n",
    "    return permutations\n",
    "\n",
    "def generate_all_possible_combinations(columns, n=3):\n",
    "    combinations = []\n",
    "    for i in range(1, n+1):\n",
    "        combinations.extend(generate_permutations(columns, i))\n",
    "    return combinations "
   ]
  },
  {
   "cell_type": "code",
   "execution_count": 13,
   "metadata": {},
   "outputs": [
    {
     "data": {
      "text/plain": [
       "[(1,),\n",
       " (2,),\n",
       " (3,),\n",
       " (4,),\n",
       " (1, 2),\n",
       " (1, 3),\n",
       " (1, 4),\n",
       " (2, 3),\n",
       " (2, 4),\n",
       " (3, 4),\n",
       " (1, 2, 3),\n",
       " (1, 2, 4),\n",
       " (1, 3, 4),\n",
       " (2, 3, 4)]"
      ]
     },
     "execution_count": 13,
     "metadata": {},
     "output_type": "execute_result"
    }
   ],
   "source": [
    "generate_all_possible_combinations([1,2,3,4], 3)"
   ]
  },
  {
   "cell_type": "code",
   "execution_count": 14,
   "metadata": {},
   "outputs": [],
   "source": [
    "all_possible_basket_combinations = generate_all_possible_combinations(list_products, n=3)"
   ]
  },
  {
   "cell_type": "code",
   "execution_count": 15,
   "metadata": {},
   "outputs": [],
   "source": [
    "def calculate_combination_probability(df, combination):\n",
    "    logic = None\n",
    "    for product in combination:\n",
    "        if logic is None:\n",
    "            logic = df[product] == 1\n",
    "            continue\n",
    "        logic &= (df[product] == 1)\n",
    "    return len(df[logic]) / len(df)"
   ]
  },
  {
   "cell_type": "code",
   "execution_count": 16,
   "metadata": {},
   "outputs": [],
   "source": [
    "probabilities = {}\n",
    "for combination in all_possible_basket_combinations:\n",
    "    probabilities[frozenset(combination)] = calculate_combination_probability(basket_encoded, combination)"
   ]
  },
  {
   "cell_type": "code",
   "execution_count": 17,
   "metadata": {},
   "outputs": [],
   "source": [
    "def generate_rules(combination):\n",
    "    possible_comb = generate_all_possible_combinations(combination)\n",
    "    rules = []\n",
    "    for if_ in possible_comb:\n",
    "        for then_ in possible_comb:\n",
    "            if set(if_).intersection(set(then_)).__len__() != 0:\n",
    "                continue\n",
    "            rules.append((if_, then_))\n",
    "    return rules"
   ]
  },
  {
   "cell_type": "code",
   "execution_count": 18,
   "metadata": {},
   "outputs": [],
   "source": [
    "rules_generator = list(filter(lambda x: len(x) > 1, all_possible_basket_combinations))"
   ]
  },
  {
   "cell_type": "code",
   "execution_count": 19,
   "metadata": {},
   "outputs": [],
   "source": [
    "rules = []\n",
    "\n",
    "for combination in rules_generator:\n",
    "    rules.extend(generate_rules(combination))"
   ]
  },
  {
   "cell_type": "code",
   "execution_count": 20,
   "metadata": {},
   "outputs": [],
   "source": [
    "rules = list(set(rules))"
   ]
  },
  {
   "cell_type": "code",
   "execution_count": 21,
   "metadata": {},
   "outputs": [],
   "source": [
    "rules_confidence = {}\n",
    "lift = {}\n",
    "support = {}"
   ]
  },
  {
   "cell_type": "code",
   "execution_count": 22,
   "metadata": {},
   "outputs": [],
   "source": [
    "for (if_, then_) in rules:\n",
    "    support[(if_, then_)] = probabilities[frozenset(if_ + then_)]\n",
    "    if probabilities[frozenset(if_)] != 0:\n",
    "        rules_confidence[(if_, then_)] = probabilities[frozenset(if_ + then_)] / probabilities[frozenset(if_)]\n",
    "        if probabilities[frozenset(then_)] != 0:\n",
    "            lift[(if_, then_)] = probabilities[frozenset(if_ + then_)] / (probabilities[frozenset(if_)] * probabilities[frozenset(then_)])"
   ]
  },
  {
   "cell_type": "code",
   "execution_count": 23,
   "metadata": {},
   "outputs": [],
   "source": [
    "def association_rules(support_lower=0.05, confidence_lower=0.9, lift_lower=1):\n",
    "    rules_list = list(lift.keys())\n",
    "    return list(filter(lambda x: support[x] > support_lower and rules_confidence[x] > confidence_lower and lift[x] > lift_lower, rules_list))"
   ]
  },
  {
   "cell_type": "code",
   "execution_count": 24,
   "metadata": {},
   "outputs": [
    {
     "data": {
      "text/html": [
       "<div>\n",
       "<style scoped>\n",
       "    .dataframe tbody tr th:only-of-type {\n",
       "        vertical-align: middle;\n",
       "    }\n",
       "\n",
       "    .dataframe tbody tr th {\n",
       "        vertical-align: top;\n",
       "    }\n",
       "\n",
       "    .dataframe thead th {\n",
       "        text-align: right;\n",
       "    }\n",
       "</style>\n",
       "<table border=\"1\" class=\"dataframe\">\n",
       "  <thead>\n",
       "    <tr style=\"text-align: right;\">\n",
       "      <th></th>\n",
       "    </tr>\n",
       "  </thead>\n",
       "  <tbody>\n",
       "  </tbody>\n",
       "</table>\n",
       "</div>"
      ],
      "text/plain": [
       "Empty DataFrame\n",
       "Columns: []\n",
       "Index: []"
      ]
     },
     "execution_count": 24,
     "metadata": {},
     "output_type": "execute_result"
    }
   ],
   "source": [
    "pd.DataFrame(association_rules(support_lower=0.0005))"
   ]
  },
  {
   "attachments": {},
   "cell_type": "markdown",
   "metadata": {},
   "source": [
    "### Using Decision Tree to help with rules selection"
   ]
  },
  {
   "attachments": {},
   "cell_type": "markdown",
   "metadata": {},
   "source": [
    "For example, we want to see milk pattern"
   ]
  },
  {
   "cell_type": "code",
   "execution_count": 25,
   "metadata": {},
   "outputs": [],
   "source": [
    "from sklearn.tree import DecisionTreeClassifier"
   ]
  },
  {
   "cell_type": "code",
   "execution_count": 26,
   "metadata": {},
   "outputs": [],
   "source": [
    "tree = DecisionTreeClassifier(max_depth=5)"
   ]
  },
  {
   "cell_type": "code",
   "execution_count": 27,
   "metadata": {},
   "outputs": [],
   "source": [
    "interested_product = 'milk'"
   ]
  },
  {
   "cell_type": "code",
   "execution_count": 28,
   "metadata": {},
   "outputs": [],
   "source": [
    "y = basket_encoded[interested_product]\n",
    "X = basket_encoded.drop(interested_product, axis=1)"
   ]
  },
  {
   "cell_type": "code",
   "execution_count": 29,
   "metadata": {},
   "outputs": [
    {
     "data": {
      "text/html": [
       "<style>#sk-container-id-1 {color: black;background-color: white;}#sk-container-id-1 pre{padding: 0;}#sk-container-id-1 div.sk-toggleable {background-color: white;}#sk-container-id-1 label.sk-toggleable__label {cursor: pointer;display: block;width: 100%;margin-bottom: 0;padding: 0.3em;box-sizing: border-box;text-align: center;}#sk-container-id-1 label.sk-toggleable__label-arrow:before {content: \"▸\";float: left;margin-right: 0.25em;color: #696969;}#sk-container-id-1 label.sk-toggleable__label-arrow:hover:before {color: black;}#sk-container-id-1 div.sk-estimator:hover label.sk-toggleable__label-arrow:before {color: black;}#sk-container-id-1 div.sk-toggleable__content {max-height: 0;max-width: 0;overflow: hidden;text-align: left;background-color: #f0f8ff;}#sk-container-id-1 div.sk-toggleable__content pre {margin: 0.2em;color: black;border-radius: 0.25em;background-color: #f0f8ff;}#sk-container-id-1 input.sk-toggleable__control:checked~div.sk-toggleable__content {max-height: 200px;max-width: 100%;overflow: auto;}#sk-container-id-1 input.sk-toggleable__control:checked~label.sk-toggleable__label-arrow:before {content: \"▾\";}#sk-container-id-1 div.sk-estimator input.sk-toggleable__control:checked~label.sk-toggleable__label {background-color: #d4ebff;}#sk-container-id-1 div.sk-label input.sk-toggleable__control:checked~label.sk-toggleable__label {background-color: #d4ebff;}#sk-container-id-1 input.sk-hidden--visually {border: 0;clip: rect(1px 1px 1px 1px);clip: rect(1px, 1px, 1px, 1px);height: 1px;margin: -1px;overflow: hidden;padding: 0;position: absolute;width: 1px;}#sk-container-id-1 div.sk-estimator {font-family: monospace;background-color: #f0f8ff;border: 1px dotted black;border-radius: 0.25em;box-sizing: border-box;margin-bottom: 0.5em;}#sk-container-id-1 div.sk-estimator:hover {background-color: #d4ebff;}#sk-container-id-1 div.sk-parallel-item::after {content: \"\";width: 100%;border-bottom: 1px solid gray;flex-grow: 1;}#sk-container-id-1 div.sk-label:hover label.sk-toggleable__label {background-color: #d4ebff;}#sk-container-id-1 div.sk-serial::before {content: \"\";position: absolute;border-left: 1px solid gray;box-sizing: border-box;top: 0;bottom: 0;left: 50%;z-index: 0;}#sk-container-id-1 div.sk-serial {display: flex;flex-direction: column;align-items: center;background-color: white;padding-right: 0.2em;padding-left: 0.2em;position: relative;}#sk-container-id-1 div.sk-item {position: relative;z-index: 1;}#sk-container-id-1 div.sk-parallel {display: flex;align-items: stretch;justify-content: center;background-color: white;position: relative;}#sk-container-id-1 div.sk-item::before, #sk-container-id-1 div.sk-parallel-item::before {content: \"\";position: absolute;border-left: 1px solid gray;box-sizing: border-box;top: 0;bottom: 0;left: 50%;z-index: -1;}#sk-container-id-1 div.sk-parallel-item {display: flex;flex-direction: column;z-index: 1;position: relative;background-color: white;}#sk-container-id-1 div.sk-parallel-item:first-child::after {align-self: flex-end;width: 50%;}#sk-container-id-1 div.sk-parallel-item:last-child::after {align-self: flex-start;width: 50%;}#sk-container-id-1 div.sk-parallel-item:only-child::after {width: 0;}#sk-container-id-1 div.sk-dashed-wrapped {border: 1px dashed gray;margin: 0 0.4em 0.5em 0.4em;box-sizing: border-box;padding-bottom: 0.4em;background-color: white;}#sk-container-id-1 div.sk-label label {font-family: monospace;font-weight: bold;display: inline-block;line-height: 1.2em;}#sk-container-id-1 div.sk-label-container {text-align: center;}#sk-container-id-1 div.sk-container {/* jupyter's `normalize.less` sets `[hidden] { display: none; }` but bootstrap.min.css set `[hidden] { display: none !important; }` so we also need the `!important` here to be able to override the default hidden behavior on the sphinx rendered scikit-learn.org. See: https://github.com/scikit-learn/scikit-learn/issues/21755 */display: inline-block !important;position: relative;}#sk-container-id-1 div.sk-text-repr-fallback {display: none;}</style><div id=\"sk-container-id-1\" class=\"sk-top-container\"><div class=\"sk-text-repr-fallback\"><pre>DecisionTreeClassifier(max_depth=5)</pre><b>In a Jupyter environment, please rerun this cell to show the HTML representation or trust the notebook. <br />On GitHub, the HTML representation is unable to render, please try loading this page with nbviewer.org.</b></div><div class=\"sk-container\" hidden><div class=\"sk-item\"><div class=\"sk-estimator sk-toggleable\"><input class=\"sk-toggleable__control sk-hidden--visually\" id=\"sk-estimator-id-1\" type=\"checkbox\" checked><label for=\"sk-estimator-id-1\" class=\"sk-toggleable__label sk-toggleable__label-arrow\">DecisionTreeClassifier</label><div class=\"sk-toggleable__content\"><pre>DecisionTreeClassifier(max_depth=5)</pre></div></div></div></div></div>"
      ],
      "text/plain": [
       "DecisionTreeClassifier(max_depth=5)"
      ]
     },
     "execution_count": 29,
     "metadata": {},
     "output_type": "execute_result"
    }
   ],
   "source": [
    "tree.fit(X, y)"
   ]
  },
  {
   "cell_type": "code",
   "execution_count": 30,
   "metadata": {},
   "outputs": [],
   "source": [
    "def get_association_rules_from_tree(tree, feature_names, out):\n",
    "    left      = tree.tree_.children_left\n",
    "    right     = tree.tree_.children_right\n",
    "    threshold = tree.tree_.threshold\n",
    "    features  = [feature_names[i] for i in tree.tree_.feature]\n",
    "\n",
    "    # get ids of child nodes\n",
    "    idx = np.argwhere(left == -1)[:,0]     \n",
    "\n",
    "    def recurse(left, right, child, lineage=None):\n",
    "        if lineage is None:\n",
    "            buy = np.argmax(tree.tree_.value[child]) \n",
    "            lineage = [buy]\n",
    "        if child in left:\n",
    "            parent = np.where(left == child)[0].item()\n",
    "            split = 'l'\n",
    "        else:\n",
    "            parent = np.where(right == child)[0].item()\n",
    "            split = 'r'\n",
    "\n",
    "        lineage.append((parent, split, threshold[parent], features[parent]))\n",
    "\n",
    "        if parent == 0:\n",
    "            lineage.reverse()\n",
    "            return lineage\n",
    "        else:\n",
    "            return recurse(left, right, parent, lineage)\n",
    "    \n",
    "    rules = []\n",
    "\n",
    "    currule = tuple()\n",
    "    for child in idx:\n",
    "        for node in recurse(left, right, child):\n",
    "            if isinstance(node, np.int64):\n",
    "                if node == 1:\n",
    "                    rules.append((currule, out))\n",
    "                currule = tuple()\n",
    "                continue\n",
    "            if node[1] == 'r':\n",
    "                currule = (node[3],) + currule\n",
    "    return rules\n"
   ]
  },
  {
   "cell_type": "code",
   "execution_count": 31,
   "metadata": {},
   "outputs": [],
   "source": [
    "rules = get_association_rules_from_tree(tree, tree.feature_names_in_, out=('milk',))"
   ]
  },
  {
   "cell_type": "code",
   "execution_count": 32,
   "metadata": {},
   "outputs": [],
   "source": [
    "support_milk = {}\n",
    "confidence_milk = {}\n",
    "lift_milk = {}"
   ]
  },
  {
   "cell_type": "code",
   "execution_count": 33,
   "metadata": {},
   "outputs": [],
   "source": [
    "for comb1, comb2 in rules:\n",
    "    support_milk[(comb1, comb2)] = calculate_combination_probability(basket_encoded, comb1 + comb2)\n",
    "    confidence_milk[(comb1, comb2)] = support_milk[(comb1, comb2)] / calculate_combination_probability(basket_encoded, comb1)\n",
    "    lift_milk[(comb1, comb2)] = confidence_milk[(comb1, comb2)] / calculate_combination_probability(basket_encoded, comb2)"
   ]
  },
  {
   "cell_type": "code",
   "execution_count": 34,
   "metadata": {},
   "outputs": [
    {
     "data": {
      "text/plain": [
       "{(('cooking oil', 'eggs', 'frozen vegetables'), ('milk',)): 3.6002004635720097,\n",
       " (('burgers', 'whole wheat rice', 'soup'), ('milk',)): 4.896272630457934,\n",
       " (('cooking oil', 'frozen vegetables', 'soup'), ('milk',)): 3.0601703940362084,\n",
       " (('chicken', 'frozen vegetables', 'soup'), ('milk',)): 5.246006389776358,\n",
       " (('mineral water', 'frozen vegetables', 'soup'),\n",
       "  ('milk',)): 3.7044167927806737,\n",
       " (('tomatoes', 'mineral water', 'frozen vegetables', 'soup'),\n",
       "  ('milk',)): 5.3552981895633645}"
      ]
     },
     "execution_count": 34,
     "metadata": {},
     "output_type": "execute_result"
    }
   ],
   "source": [
    "lift_milk"
   ]
  },
  {
   "attachments": {},
   "cell_type": "markdown",
   "metadata": {},
   "source": [
    "### Class Implementation of Association Rules and Association Trees"
   ]
  },
  {
   "cell_type": "code",
   "execution_count": 35,
   "metadata": {},
   "outputs": [],
   "source": [
    "from dataclasses import dataclass"
   ]
  },
  {
   "cell_type": "code",
   "execution_count": 36,
   "metadata": {},
   "outputs": [],
   "source": [
    "@dataclass\n",
    "class AssociationRule:\n",
    "    if_: tuple\n",
    "    then_: tuple\n",
    "    support: float\n",
    "    confidence: float\n",
    "    lift: float"
   ]
  },
  {
   "cell_type": "code",
   "execution_count": 37,
   "metadata": {},
   "outputs": [],
   "source": [
    "class AssociaitionRulesModel:\n",
    "    def __init__(self, support_lower: float, confidence_lower: float, lift_lower: float, n_products=3):\n",
    "        self.support_lower = support_lower\n",
    "        self.confidence_lower = confidence_lower\n",
    "        self.lift_lower = lift_lower\n",
    "        self.n_products = n_products\n",
    "    \n",
    "    @staticmethod\n",
    "    def generate_permutations(columns: list, n: int):\n",
    "        if n == 1:\n",
    "            return [(k,) for k in columns]\n",
    "        permutations = []\n",
    "        for i, c in enumerate(columns):\n",
    "            permutations.extend([(c,) + p for p in generate_permutations(columns[i+1:], n-1)])\n",
    "        return permutations\n",
    "\n",
    "    @staticmethod\n",
    "    def generate_all_possible_combinations(columns: list, n: int):\n",
    "        combinations = []\n",
    "        for i in range(1, n+1):\n",
    "            combinations.extend(generate_permutations(columns, i))\n",
    "        return combinations \n",
    "    \n",
    "    @staticmethod\n",
    "    def calculate_combination_probability(df: pd.DataFrame, combination: tuple):\n",
    "        logic = None\n",
    "        for product in combination:\n",
    "            if logic is None:\n",
    "                logic = df[product] == 1\n",
    "                continue\n",
    "            logic &= (df[product] == 1)\n",
    "        return len(df[logic]) / len(df)\n",
    "    \n",
    "    def calculate_all_probabilities(self, X: pd.DataFrame):\n",
    "        self.probabilities_ = {}\n",
    "        for combination in self.all_possible_combinations_:\n",
    "            self.probabilities_[frozenset(combination)] = calculate_combination_probability(X, combination)\n",
    "        return self.probabilities_\n",
    "    \n",
    "    def generate_all_rules(self):\n",
    "        rules = []\n",
    "        rules_generator = list(filter(lambda x: len(x) > 1, self.all_possible_combinations_))\n",
    "        for combination in rules_generator:\n",
    "            rules.extend(self.generate_combination_rules(combination))\n",
    "        self.all_rules_ = list(set(rules))\n",
    "        return self.all_rules_\n",
    "    \n",
    "    def generate_combination_rules(self, combination: tuple):\n",
    "        possible_comb = self.generate_all_possible_combinations(combination, self.n_products)\n",
    "        rules = []\n",
    "        for if_ in possible_comb:\n",
    "            for then_ in possible_comb:\n",
    "                if set(if_).intersection(set(then_)).__len__() != 0:\n",
    "                    continue\n",
    "                rules.append((if_, then_))\n",
    "        return rules\n",
    "    \n",
    "    def calculate_rule_metric(self, rule: tuple):\n",
    "        if_, then_ = rule\n",
    "        support = self.probabilities_[frozenset(if_ + then_)]\n",
    "        confidence = 0\n",
    "        lift = 0\n",
    "        if self.probabilities_[frozenset(if_)] != 0:\n",
    "            confidence = self.probabilities_[frozenset(if_ + then_)] / self.probabilities_[frozenset(if_)]\n",
    "            if self.probabilities_[frozenset(then_)] != 0:\n",
    "                lift = self.probabilities_[frozenset(if_ + then_)] / (self.probabilities_[frozenset(if_)] * self.probabilities_[frozenset(then_)])\n",
    "        association_rule = AssociationRule(if_=if_, then_=then_, support=support, confidence=confidence, lift=lift)\n",
    "        return association_rule\n",
    "    \n",
    "    def calculate_metrics(self):\n",
    "        self.association_metrics_ = []\n",
    "        for rule in self.all_rules_:\n",
    "            self.association_metrics_.append(self.calculate_rule_metric(rule))\n",
    "        return self.association_metrics_\n",
    "    \n",
    "    def association_rules(self):\n",
    "        return list(filter(lambda x: x.support > self.support_lower and x.confidence > self.confidence_lower and x.lift > self.lift_lower, self.association_metrics_))\n",
    "\n",
    "    def fit(self, X: pd.DataFrame):\n",
    "        self.feature_names_ = X.columns\n",
    "        self.all_possible_combinations_ = self.generate_all_possible_combinations(X.columns, self.n_products)\n",
    "        self.calculate_all_probabilities(X)\n",
    "        self.generate_all_rules()\n",
    "        self.calculate_metrics()\n",
    "        self.association_rules_ = self.association_rules()\n",
    "    \n",
    "    def accuracy(self, Xtest: pd.DataFrame):\n",
    "        test_rules = []\n",
    "        for rule in self.association_rules_:\n",
    "            if_ = rule.if_; then_ = rule.then_\n",
    "            support = self.calculate_combination_probability(Xtest, if_ + then_)\n",
    "            if_prob = self.calculate_combination_probability(Xtest, if_)\n",
    "            then_prob = self.calculate_combination_probability(Xtest, then_)\n",
    "            confidence = support / if_prob if if_prob != 0 else 0\n",
    "            lift = confidence / then_prob if then_prob != 0 else 0\n",
    "            test_rule = AssociationRule(if_, then_, support, confidence, lift)\n",
    "            test_rules.append(test_rule)\n",
    "        return test_rules\n",
    "            "
   ]
  },
  {
   "cell_type": "code",
   "execution_count": 38,
   "metadata": {},
   "outputs": [],
   "source": [
    "from sklearn.model_selection import train_test_split"
   ]
  },
  {
   "cell_type": "code",
   "execution_count": 39,
   "metadata": {},
   "outputs": [],
   "source": [
    "train, test = train_test_split(basket_encoded)"
   ]
  },
  {
   "attachments": {},
   "cell_type": "markdown",
   "metadata": {},
   "source": [
    "### Adding Decision Trees to help with Association Rules Selection"
   ]
  },
  {
   "cell_type": "code",
   "execution_count": 40,
   "metadata": {},
   "outputs": [],
   "source": [
    "class AssociationTree(AssociaitionRulesModel):\n",
    "    def __init__(self, support_lower: float, confidence_lower: float, lift_lower: float, n_products=3):\n",
    "        super().__init__(support_lower, confidence_lower, lift_lower, n_products)\n",
    "        self.probabilities_ = {}\n",
    "    \n",
    "    @staticmethod\n",
    "    def get_association_rules_from_tree(tree: DecisionTreeClassifier, feature_names: list, out: tuple):\n",
    "        left      = tree.tree_.children_left\n",
    "        right     = tree.tree_.children_right\n",
    "        threshold = tree.tree_.threshold\n",
    "        features  = [feature_names[i] for i in tree.tree_.feature]\n",
    "\n",
    "        # get ids of child nodes\n",
    "        idx = np.argwhere(left == -1)[:,0]     \n",
    "\n",
    "        def recurse(left, right, child, lineage=None):\n",
    "            if lineage is None:\n",
    "                buy = np.argmax(tree.tree_.value[child]) \n",
    "                lineage = [buy]\n",
    "            if child in left:\n",
    "                parent = np.where(left == child)[0].item()\n",
    "                split = 'l'\n",
    "            else:\n",
    "                parent = np.where(right == child)[0].item()\n",
    "                split = 'r'\n",
    "\n",
    "            lineage.append((parent, split, threshold[parent], features[parent]))\n",
    "\n",
    "            if parent == 0:\n",
    "                lineage.reverse()\n",
    "                return lineage\n",
    "            else:\n",
    "                return recurse(left, right, parent, lineage)\n",
    "        \n",
    "        rules = []\n",
    "\n",
    "        currule = tuple()\n",
    "        for child in idx:\n",
    "            for node in recurse(left, right, child):\n",
    "                if isinstance(node, np.int64):\n",
    "                    if node == 1:\n",
    "                        rules.append((currule, out))\n",
    "                    currule = tuple()\n",
    "                    continue\n",
    "                if node[1] == 'r':\n",
    "                    currule = (node[3],) + currule\n",
    "        return rules\n",
    "    \n",
    "    def generate_feature_name_rules(self, X, feature_name):\n",
    "        tree = DecisionTreeClassifier(max_depth=self.n_products)\n",
    "        y = X[feature_name]\n",
    "        Xtree = X.drop(feature_name, axis=1)\n",
    "        tree.fit(Xtree, y)\n",
    "        return self.get_association_rules_from_tree(tree, tree.feature_names_in_, out=(feature_name,))\n",
    "\n",
    "    def generate_all_rules(self, X: pd.DataFrame):\n",
    "        self.all_rules_ = []\n",
    "        for feature_name in self.feature_names_:\n",
    "            rules = self.generate_feature_name_rules(X, feature_name)\n",
    "            self.all_rules_.extend(rules)\n",
    "    \n",
    "    def calculate_rule_metric(self, rule: tuple):\n",
    "        if_, then_ = rule\n",
    "        if frozenset(if_ + then_) not in self.probabilities_.keys():\n",
    "            p = self.calculate_combination_probability(self._X, if_ + then_)\n",
    "            self.probabilities_[frozenset(if_ + then_)] = p\n",
    "        if frozenset(if_) not in self.probabilities_.keys():\n",
    "            p = self.calculate_combination_probability(self._X, if_)\n",
    "            self.probabilities_[frozenset(if_)] = p\n",
    "        if frozenset(then_) not in self.probabilities_.keys():\n",
    "            p = self.calculate_combination_probability(self._X, then_)\n",
    "            self.probabilities_[frozenset(then_)] = p\n",
    "        support = self.probabilities_[frozenset(if_ + then_)]\n",
    "        confidence = 0\n",
    "        lift = 0\n",
    "        if self.probabilities_[frozenset(if_)] != 0:\n",
    "            confidence = self.probabilities_[frozenset(if_ + then_)] / self.probabilities_[frozenset(if_)]\n",
    "            if self.probabilities_[frozenset(then_)] != 0:\n",
    "                lift = self.probabilities_[frozenset(if_ + then_)] / (self.probabilities_[frozenset(if_)] * self.probabilities_[frozenset(then_)])\n",
    "        association_rule = AssociationRule(if_=if_, then_=then_, support=support, confidence=confidence, lift=lift)\n",
    "        return association_rule\n",
    "    \n",
    "    def fit(self, X: pd.DataFrame):\n",
    "        self._X = X.copy()\n",
    "        self.feature_names_ = X.columns\n",
    "        self.generate_all_rules(X)\n",
    "        self.calculate_metrics()\n",
    "        self.association_rules_ = self.association_rules()"
   ]
  },
  {
   "cell_type": "code",
   "execution_count": 41,
   "metadata": {},
   "outputs": [
    {
     "data": {
      "text/plain": [
       "25"
      ]
     },
     "execution_count": 41,
     "metadata": {},
     "output_type": "execute_result"
    }
   ],
   "source": [
    "basket_encoded.columns.__len__()"
   ]
  },
  {
   "cell_type": "code",
   "execution_count": 42,
   "metadata": {},
   "outputs": [],
   "source": [
    "assotree = AssociationTree(0.001, 0.5, 1, 4)\n",
    "assotree.fit(train)"
   ]
  },
  {
   "cell_type": "code",
   "execution_count": 43,
   "metadata": {},
   "outputs": [],
   "source": [
    "asso = AssociaitionRulesModel(0.001, 0.5, 1, 5)\n",
    "asso.fit(train)"
   ]
  },
  {
   "cell_type": "code",
   "execution_count": 44,
   "metadata": {},
   "outputs": [],
   "source": [
    "normal_model = asso.accuracy(test)"
   ]
  },
  {
   "cell_type": "code",
   "execution_count": 45,
   "metadata": {},
   "outputs": [],
   "source": [
    "tree_model = assotree.accuracy(test)"
   ]
  },
  {
   "cell_type": "code",
   "execution_count": 46,
   "metadata": {},
   "outputs": [],
   "source": [
    "def get_average_parameters(list_rules):\n",
    "    avg_support = sum([x.support for x in list_rules]) / len(list_rules)\n",
    "    avg_confidence = sum([x.confidence for x in list_rules]) / len(list_rules)\n",
    "    avg_lift = sum([x.lift for x in list_rules]) / len(list_rules)\n",
    "    return {\n",
    "        'support': avg_support,\n",
    "        'confidence': avg_confidence,\n",
    "        'lift': avg_lift\n",
    "    }"
   ]
  },
  {
   "cell_type": "code",
   "execution_count": 47,
   "metadata": {},
   "outputs": [
    {
     "data": {
      "text/plain": [
       "{'support': 0.0009856706115035836,\n",
       " 'confidence': 0.3536577490468407,\n",
       " 'lift': 1.6300696542934865}"
      ]
     },
     "execution_count": 47,
     "metadata": {},
     "output_type": "execute_result"
    }
   ],
   "source": [
    "get_average_parameters(normal_model)"
   ]
  },
  {
   "cell_type": "code",
   "execution_count": 48,
   "metadata": {},
   "outputs": [
    {
     "data": {
      "text/plain": [
       "{'support': 0.002307438742995275,\n",
       " 'confidence': 0.3537413244650087,\n",
       " 'lift': 1.783987236891221}"
      ]
     },
     "execution_count": 48,
     "metadata": {},
     "output_type": "execute_result"
    }
   ],
   "source": [
    "get_average_parameters(tree_model)"
   ]
  }
 ],
 "metadata": {
  "kernelspec": {
   "display_name": "Python 3",
   "language": "python",
   "name": "python3"
  },
  "language_info": {
   "codemirror_mode": {
    "name": "ipython",
    "version": 3
   },
   "file_extension": ".py",
   "mimetype": "text/x-python",
   "name": "python",
   "nbconvert_exporter": "python",
   "pygments_lexer": "ipython3",
   "version": "3.10.4"
  },
  "orig_nbformat": 4
 },
 "nbformat": 4,
 "nbformat_minor": 2
}
