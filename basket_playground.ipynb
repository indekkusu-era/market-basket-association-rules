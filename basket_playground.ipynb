{
 "cells": [
  {
   "cell_type": "markdown",
   "id": "5d449dcc",
   "metadata": {
    "papermill": {
     "duration": 0.019856,
     "end_time": "2023-03-03T08:34:50.970663",
     "exception": false,
     "start_time": "2023-03-03T08:34:50.950807",
     "status": "completed"
    },
    "tags": []
   },
   "source": [
    "## Market Basket Analysis with Association Rules Analysis and implementation of Decision Trees to help with Rules Selection"
   ]
  },
  {
   "cell_type": "markdown",
   "id": "497c4422",
   "metadata": {
    "papermill": {
     "duration": 0.018825,
     "end_time": "2023-03-03T08:34:51.006920",
     "exception": false,
     "start_time": "2023-03-03T08:34:50.988095",
     "status": "completed"
    },
    "tags": []
   },
   "source": [
    "In this study, we will explore the essence of **Association Rules Analysis (ARA)**, with the applications of Market Basket Analysis. The Dataset can be found in [this URL](https://www.kaggle.com/datasets/rupakroy/market-basket-optimization). Here, we are going over the implementation of Association Rules Analysis from Scratch, and how we can enhance it with Decision Trees"
   ]
  },
  {
   "cell_type": "markdown",
   "id": "fae1fc65",
   "metadata": {
    "papermill": {
     "duration": 0.018066,
     "end_time": "2023-03-03T08:34:51.041969",
     "exception": false,
     "start_time": "2023-03-03T08:34:51.023903",
     "status": "completed"
    },
    "tags": []
   },
   "source": [
    "### Association Rules Analysis\n",
    "\n",
    "**Association Rules Analysis** is the algorithm to detect the if-then pattern in the dataset. For example, if a customer buys mineral water, they will buy milk according to the dataset. The essence of it is that, the rules selection were indicated with the concept from **basic probability theory**, for example, Conditional Probability and Bayes' Rules.\n",
    "\n",
    "There are three main indicators to identify whether the rules are relevant:\n",
    "- **Support**: The probability that the customers will buy both item sets together\n",
    "- **Confidence**: The probability that the customers will buy the item set B, given that they buy the item set A\n",
    "- **Lift**: The lift ratio, which we also used the probability of the customers buying the item set B into the considerations.\n",
    "\n",
    "Often, the cutoff of each indicator, and the number of items in consideration were manually set by humans. However there are also some reasonable numbers that we can consider."
   ]
  },
  {
   "cell_type": "markdown",
   "id": "db2cec88",
   "metadata": {
    "papermill": {
     "duration": 0.016439,
     "end_time": "2023-03-03T08:34:51.075101",
     "exception": false,
     "start_time": "2023-03-03T08:34:51.058662",
     "status": "completed"
    },
    "tags": []
   },
   "source": [
    "### Decision Tree\n",
    "\n",
    "**Decision Tree** is a machine learning algorithm which is based on the concept of binary trees. The essence of it, they automatically write the if-else code according to the dataset. Its way of classification or prediction is really simple. For example, we can say that, if a customer buys mineral water, and milk, they will buy pancake. By the similarity, it can be the helper for the Association Rules Analysis in the Rules Selection."
   ]
  },
  {
   "cell_type": "markdown",
   "id": "10b4110e",
   "metadata": {
    "papermill": {
     "duration": 0.016714,
     "end_time": "2023-03-03T08:34:51.108410",
     "exception": false,
     "start_time": "2023-03-03T08:34:51.091696",
     "status": "completed"
    },
    "tags": []
   },
   "source": [
    "### Implementation of Decision Tree in Association Rules Analysis\n",
    "\n",
    "One of the disadvantages of Association Rules Analysis is the processing times in order to find the rules because they calculate the indicators with every rule possible in the given constraints of number of items. And one of the disadvantages of Decision Tree is, it cannot indicate how strong each rules are.\n",
    "\n",
    "To visualize these disadvantages technically, if n in the number of item categories and k is the number of items we take into rules consideration, the Association Rules analysis would take approximately **C(n, k) ~ n^k** rules into consideration, meanwhile Decision Tree would take less than or equal to **2^k** rules in the decision, which is a lot less when the number of items get larger. Meanwhile Decision Tree don't know how strong their classification rules are, for example, they know that if the customer buys milk, they will buy mineral water, but they don't know how strong this rule is.\n",
    "\n",
    "In this specific implementation, we tried to use Decision Tree to help with the **rules selection** of Association Rules Analysis by predicting whether the customer will buy this item, given that they buy other items for all items, in the given limited Tree Depths. Then we use Association Rules Analysis to evalute these rules."
   ]
  },
  {
   "cell_type": "markdown",
   "id": "980fcca1",
   "metadata": {
    "papermill": {
     "duration": 0.016666,
     "end_time": "2023-03-03T08:34:51.141734",
     "exception": false,
     "start_time": "2023-03-03T08:34:51.125068",
     "status": "completed"
    },
    "tags": []
   },
   "source": [
    "---"
   ]
  },
  {
   "cell_type": "markdown",
   "id": "40472e5b",
   "metadata": {
    "papermill": {
     "duration": 0.016617,
     "end_time": "2023-03-03T08:34:51.175699",
     "exception": false,
     "start_time": "2023-03-03T08:34:51.159082",
     "status": "completed"
    },
    "tags": []
   },
   "source": [
    "### Data Preprocessing\n",
    "\n",
    "In this portion, we preprocess the dataset from the arrays of the items in baskets into the binary table, which indicates whether the customer buys this item"
   ]
  },
  {
   "cell_type": "code",
   "execution_count": 1,
   "id": "233e2a1a",
   "metadata": {
    "execution": {
     "iopub.execute_input": "2023-03-03T08:34:51.213190Z",
     "iopub.status.busy": "2023-03-03T08:34:51.212654Z",
     "iopub.status.idle": "2023-03-03T08:34:51.225392Z",
     "shell.execute_reply": "2023-03-03T08:34:51.223630Z"
    },
    "papermill": {
     "duration": 0.035392,
     "end_time": "2023-03-03T08:34:51.228806",
     "exception": false,
     "start_time": "2023-03-03T08:34:51.193414",
     "status": "completed"
    },
    "tags": []
   },
   "outputs": [],
   "source": [
    "import pandas as pd\n",
    "import numpy as np\n",
    "import matplotlib.pyplot as plt"
   ]
  },
  {
   "cell_type": "code",
   "execution_count": 2,
   "id": "4872e088",
   "metadata": {
    "execution": {
     "iopub.execute_input": "2023-03-03T08:34:51.266246Z",
     "iopub.status.busy": "2023-03-03T08:34:51.265712Z",
     "iopub.status.idle": "2023-03-03T08:34:51.315092Z",
     "shell.execute_reply": "2023-03-03T08:34:51.313764Z"
    },
    "papermill": {
     "duration": 0.074903,
     "end_time": "2023-03-03T08:34:51.320075",
     "exception": false,
     "start_time": "2023-03-03T08:34:51.245172",
     "status": "completed"
    },
    "tags": []
   },
   "outputs": [],
   "source": [
    "basket = pd.read_csv('basket_dataset/Market_Basket_Optimisation.csv', header=None)"
   ]
  },
  {
   "cell_type": "code",
   "execution_count": 3,
   "id": "ac0ced75",
   "metadata": {
    "execution": {
     "iopub.execute_input": "2023-03-03T08:34:51.355907Z",
     "iopub.status.busy": "2023-03-03T08:34:51.354841Z",
     "iopub.status.idle": "2023-03-03T08:34:51.399142Z",
     "shell.execute_reply": "2023-03-03T08:34:51.397284Z"
    },
    "papermill": {
     "duration": 0.065451,
     "end_time": "2023-03-03T08:34:51.402094",
     "exception": false,
     "start_time": "2023-03-03T08:34:51.336643",
     "status": "completed"
    },
    "tags": []
   },
   "outputs": [
    {
     "data": {
      "text/html": [
       "<div>\n",
       "<style scoped>\n",
       "    .dataframe tbody tr th:only-of-type {\n",
       "        vertical-align: middle;\n",
       "    }\n",
       "\n",
       "    .dataframe tbody tr th {\n",
       "        vertical-align: top;\n",
       "    }\n",
       "\n",
       "    .dataframe thead th {\n",
       "        text-align: right;\n",
       "    }\n",
       "</style>\n",
       "<table border=\"1\" class=\"dataframe\">\n",
       "  <thead>\n",
       "    <tr style=\"text-align: right;\">\n",
       "      <th></th>\n",
       "      <th>0</th>\n",
       "      <th>1</th>\n",
       "      <th>2</th>\n",
       "      <th>3</th>\n",
       "      <th>4</th>\n",
       "      <th>5</th>\n",
       "      <th>6</th>\n",
       "      <th>7</th>\n",
       "      <th>8</th>\n",
       "      <th>9</th>\n",
       "      <th>10</th>\n",
       "      <th>11</th>\n",
       "      <th>12</th>\n",
       "      <th>13</th>\n",
       "      <th>14</th>\n",
       "      <th>15</th>\n",
       "      <th>16</th>\n",
       "      <th>17</th>\n",
       "      <th>18</th>\n",
       "      <th>19</th>\n",
       "    </tr>\n",
       "  </thead>\n",
       "  <tbody>\n",
       "    <tr>\n",
       "      <th>0</th>\n",
       "      <td>shrimp</td>\n",
       "      <td>almonds</td>\n",
       "      <td>avocado</td>\n",
       "      <td>vegetables mix</td>\n",
       "      <td>green grapes</td>\n",
       "      <td>whole weat flour</td>\n",
       "      <td>yams</td>\n",
       "      <td>cottage cheese</td>\n",
       "      <td>energy drink</td>\n",
       "      <td>tomato juice</td>\n",
       "      <td>low fat yogurt</td>\n",
       "      <td>green tea</td>\n",
       "      <td>honey</td>\n",
       "      <td>salad</td>\n",
       "      <td>mineral water</td>\n",
       "      <td>salmon</td>\n",
       "      <td>antioxydant juice</td>\n",
       "      <td>frozen smoothie</td>\n",
       "      <td>spinach</td>\n",
       "      <td>olive oil</td>\n",
       "    </tr>\n",
       "    <tr>\n",
       "      <th>1</th>\n",
       "      <td>burgers</td>\n",
       "      <td>meatballs</td>\n",
       "      <td>eggs</td>\n",
       "      <td>NaN</td>\n",
       "      <td>NaN</td>\n",
       "      <td>NaN</td>\n",
       "      <td>NaN</td>\n",
       "      <td>NaN</td>\n",
       "      <td>NaN</td>\n",
       "      <td>NaN</td>\n",
       "      <td>NaN</td>\n",
       "      <td>NaN</td>\n",
       "      <td>NaN</td>\n",
       "      <td>NaN</td>\n",
       "      <td>NaN</td>\n",
       "      <td>NaN</td>\n",
       "      <td>NaN</td>\n",
       "      <td>NaN</td>\n",
       "      <td>NaN</td>\n",
       "      <td>NaN</td>\n",
       "    </tr>\n",
       "    <tr>\n",
       "      <th>2</th>\n",
       "      <td>chutney</td>\n",
       "      <td>NaN</td>\n",
       "      <td>NaN</td>\n",
       "      <td>NaN</td>\n",
       "      <td>NaN</td>\n",
       "      <td>NaN</td>\n",
       "      <td>NaN</td>\n",
       "      <td>NaN</td>\n",
       "      <td>NaN</td>\n",
       "      <td>NaN</td>\n",
       "      <td>NaN</td>\n",
       "      <td>NaN</td>\n",
       "      <td>NaN</td>\n",
       "      <td>NaN</td>\n",
       "      <td>NaN</td>\n",
       "      <td>NaN</td>\n",
       "      <td>NaN</td>\n",
       "      <td>NaN</td>\n",
       "      <td>NaN</td>\n",
       "      <td>NaN</td>\n",
       "    </tr>\n",
       "    <tr>\n",
       "      <th>3</th>\n",
       "      <td>turkey</td>\n",
       "      <td>avocado</td>\n",
       "      <td>NaN</td>\n",
       "      <td>NaN</td>\n",
       "      <td>NaN</td>\n",
       "      <td>NaN</td>\n",
       "      <td>NaN</td>\n",
       "      <td>NaN</td>\n",
       "      <td>NaN</td>\n",
       "      <td>NaN</td>\n",
       "      <td>NaN</td>\n",
       "      <td>NaN</td>\n",
       "      <td>NaN</td>\n",
       "      <td>NaN</td>\n",
       "      <td>NaN</td>\n",
       "      <td>NaN</td>\n",
       "      <td>NaN</td>\n",
       "      <td>NaN</td>\n",
       "      <td>NaN</td>\n",
       "      <td>NaN</td>\n",
       "    </tr>\n",
       "    <tr>\n",
       "      <th>4</th>\n",
       "      <td>mineral water</td>\n",
       "      <td>milk</td>\n",
       "      <td>energy bar</td>\n",
       "      <td>whole wheat rice</td>\n",
       "      <td>green tea</td>\n",
       "      <td>NaN</td>\n",
       "      <td>NaN</td>\n",
       "      <td>NaN</td>\n",
       "      <td>NaN</td>\n",
       "      <td>NaN</td>\n",
       "      <td>NaN</td>\n",
       "      <td>NaN</td>\n",
       "      <td>NaN</td>\n",
       "      <td>NaN</td>\n",
       "      <td>NaN</td>\n",
       "      <td>NaN</td>\n",
       "      <td>NaN</td>\n",
       "      <td>NaN</td>\n",
       "      <td>NaN</td>\n",
       "      <td>NaN</td>\n",
       "    </tr>\n",
       "  </tbody>\n",
       "</table>\n",
       "</div>"
      ],
      "text/plain": [
       "              0          1           2                 3             4   \\\n",
       "0         shrimp    almonds     avocado    vegetables mix  green grapes   \n",
       "1        burgers  meatballs        eggs               NaN           NaN   \n",
       "2        chutney        NaN         NaN               NaN           NaN   \n",
       "3         turkey    avocado         NaN               NaN           NaN   \n",
       "4  mineral water       milk  energy bar  whole wheat rice     green tea   \n",
       "\n",
       "                 5     6               7             8             9   \\\n",
       "0  whole weat flour  yams  cottage cheese  energy drink  tomato juice   \n",
       "1               NaN   NaN             NaN           NaN           NaN   \n",
       "2               NaN   NaN             NaN           NaN           NaN   \n",
       "3               NaN   NaN             NaN           NaN           NaN   \n",
       "4               NaN   NaN             NaN           NaN           NaN   \n",
       "\n",
       "               10         11     12     13             14      15  \\\n",
       "0  low fat yogurt  green tea  honey  salad  mineral water  salmon   \n",
       "1             NaN        NaN    NaN    NaN            NaN     NaN   \n",
       "2             NaN        NaN    NaN    NaN            NaN     NaN   \n",
       "3             NaN        NaN    NaN    NaN            NaN     NaN   \n",
       "4             NaN        NaN    NaN    NaN            NaN     NaN   \n",
       "\n",
       "                  16               17       18         19  \n",
       "0  antioxydant juice  frozen smoothie  spinach  olive oil  \n",
       "1                NaN              NaN      NaN        NaN  \n",
       "2                NaN              NaN      NaN        NaN  \n",
       "3                NaN              NaN      NaN        NaN  \n",
       "4                NaN              NaN      NaN        NaN  "
      ]
     },
     "execution_count": 3,
     "metadata": {},
     "output_type": "execute_result"
    }
   ],
   "source": [
    "basket.head()"
   ]
  },
  {
   "cell_type": "code",
   "execution_count": 4,
   "id": "c857a57f",
   "metadata": {
    "execution": {
     "iopub.execute_input": "2023-03-03T08:34:51.440970Z",
     "iopub.status.busy": "2023-03-03T08:34:51.440095Z",
     "iopub.status.idle": "2023-03-03T08:34:51.447114Z",
     "shell.execute_reply": "2023-03-03T08:34:51.445718Z"
    },
    "papermill": {
     "duration": 0.029242,
     "end_time": "2023-03-03T08:34:51.450489",
     "exception": false,
     "start_time": "2023-03-03T08:34:51.421247",
     "status": "completed"
    },
    "tags": []
   },
   "outputs": [],
   "source": [
    "table = []"
   ]
  },
  {
   "cell_type": "code",
   "execution_count": 5,
   "id": "8adefae1",
   "metadata": {
    "execution": {
     "iopub.execute_input": "2023-03-03T08:34:51.487552Z",
     "iopub.status.busy": "2023-03-03T08:34:51.486659Z",
     "iopub.status.idle": "2023-03-03T08:34:51.501606Z",
     "shell.execute_reply": "2023-03-03T08:34:51.499905Z"
    },
    "papermill": {
     "duration": 0.038234,
     "end_time": "2023-03-03T08:34:51.505919",
     "exception": false,
     "start_time": "2023-03-03T08:34:51.467685",
     "status": "completed"
    },
    "tags": []
   },
   "outputs": [],
   "source": [
    "list_products = np.array(list(set(basket.values.flatten())))"
   ]
  },
  {
   "cell_type": "code",
   "execution_count": 6,
   "id": "cbc25531",
   "metadata": {
    "execution": {
     "iopub.execute_input": "2023-03-03T08:34:51.544359Z",
     "iopub.status.busy": "2023-03-03T08:34:51.543238Z",
     "iopub.status.idle": "2023-03-03T08:34:51.549925Z",
     "shell.execute_reply": "2023-03-03T08:34:51.548462Z"
    },
    "papermill": {
     "duration": 0.029187,
     "end_time": "2023-03-03T08:34:51.553029",
     "exception": false,
     "start_time": "2023-03-03T08:34:51.523842",
     "status": "completed"
    },
    "tags": []
   },
   "outputs": [],
   "source": [
    "list_products = list_products[list_products != 'nan']"
   ]
  },
  {
   "cell_type": "code",
   "execution_count": 7,
   "id": "eb75706b",
   "metadata": {
    "execution": {
     "iopub.execute_input": "2023-03-03T08:34:51.590091Z",
     "iopub.status.busy": "2023-03-03T08:34:51.588911Z",
     "iopub.status.idle": "2023-03-03T08:34:55.508887Z",
     "shell.execute_reply": "2023-03-03T08:34:55.506892Z"
    },
    "papermill": {
     "duration": 3.942875,
     "end_time": "2023-03-03T08:34:55.512644",
     "exception": false,
     "start_time": "2023-03-03T08:34:51.569769",
     "status": "completed"
    },
    "tags": []
   },
   "outputs": [],
   "source": [
    "try:\n",
    "    for b in basket.loc:\n",
    "        table.append(np.isin(list_products, b.values).astype(int))\n",
    "except:\n",
    "    pass"
   ]
  },
  {
   "cell_type": "code",
   "execution_count": 8,
   "id": "e0b2a96d",
   "metadata": {
    "execution": {
     "iopub.execute_input": "2023-03-03T08:34:55.550698Z",
     "iopub.status.busy": "2023-03-03T08:34:55.549713Z",
     "iopub.status.idle": "2023-03-03T08:34:56.197054Z",
     "shell.execute_reply": "2023-03-03T08:34:56.195078Z"
    },
    "papermill": {
     "duration": 0.670578,
     "end_time": "2023-03-03T08:34:56.200977",
     "exception": false,
     "start_time": "2023-03-03T08:34:55.530399",
     "status": "completed"
    },
    "tags": []
   },
   "outputs": [],
   "source": [
    "basket_encoded = pd.DataFrame(table, columns=list_products)"
   ]
  },
  {
   "cell_type": "code",
   "execution_count": 9,
   "id": "118941ec",
   "metadata": {
    "execution": {
     "iopub.execute_input": "2023-03-03T08:34:56.239619Z",
     "iopub.status.busy": "2023-03-03T08:34:56.238485Z",
     "iopub.status.idle": "2023-03-03T08:34:56.261277Z",
     "shell.execute_reply": "2023-03-03T08:34:56.259406Z"
    },
    "papermill": {
     "duration": 0.045914,
     "end_time": "2023-03-03T08:34:56.265117",
     "exception": false,
     "start_time": "2023-03-03T08:34:56.219203",
     "status": "completed"
    },
    "tags": []
   },
   "outputs": [
    {
     "data": {
      "text/html": [
       "<div>\n",
       "<style scoped>\n",
       "    .dataframe tbody tr th:only-of-type {\n",
       "        vertical-align: middle;\n",
       "    }\n",
       "\n",
       "    .dataframe tbody tr th {\n",
       "        vertical-align: top;\n",
       "    }\n",
       "\n",
       "    .dataframe thead th {\n",
       "        text-align: right;\n",
       "    }\n",
       "</style>\n",
       "<table border=\"1\" class=\"dataframe\">\n",
       "  <thead>\n",
       "    <tr style=\"text-align: right;\">\n",
       "      <th></th>\n",
       "      <th>candy bars</th>\n",
       "      <th>protein bar</th>\n",
       "      <th>tea</th>\n",
       "      <th>spaghetti</th>\n",
       "      <th>melons</th>\n",
       "      <th>salt</th>\n",
       "      <th>cauliflower</th>\n",
       "      <th>gluten free bar</th>\n",
       "      <th>flax seed</th>\n",
       "      <th>champagne</th>\n",
       "      <th>...</th>\n",
       "      <th>black tea</th>\n",
       "      <th>fromage blanc</th>\n",
       "      <th>napkins</th>\n",
       "      <th>energy drink</th>\n",
       "      <th>whole wheat rice</th>\n",
       "      <th>carrots</th>\n",
       "      <th>antioxydant juice</th>\n",
       "      <th>fresh tuna</th>\n",
       "      <th>asparagus</th>\n",
       "      <th>eggs</th>\n",
       "    </tr>\n",
       "  </thead>\n",
       "  <tbody>\n",
       "    <tr>\n",
       "      <th>0</th>\n",
       "      <td>0</td>\n",
       "      <td>0</td>\n",
       "      <td>0</td>\n",
       "      <td>0</td>\n",
       "      <td>0</td>\n",
       "      <td>0</td>\n",
       "      <td>0</td>\n",
       "      <td>0</td>\n",
       "      <td>0</td>\n",
       "      <td>0</td>\n",
       "      <td>...</td>\n",
       "      <td>0</td>\n",
       "      <td>0</td>\n",
       "      <td>0</td>\n",
       "      <td>1</td>\n",
       "      <td>0</td>\n",
       "      <td>0</td>\n",
       "      <td>1</td>\n",
       "      <td>0</td>\n",
       "      <td>0</td>\n",
       "      <td>0</td>\n",
       "    </tr>\n",
       "    <tr>\n",
       "      <th>1</th>\n",
       "      <td>0</td>\n",
       "      <td>0</td>\n",
       "      <td>0</td>\n",
       "      <td>0</td>\n",
       "      <td>0</td>\n",
       "      <td>0</td>\n",
       "      <td>0</td>\n",
       "      <td>0</td>\n",
       "      <td>0</td>\n",
       "      <td>0</td>\n",
       "      <td>...</td>\n",
       "      <td>0</td>\n",
       "      <td>0</td>\n",
       "      <td>0</td>\n",
       "      <td>0</td>\n",
       "      <td>0</td>\n",
       "      <td>0</td>\n",
       "      <td>0</td>\n",
       "      <td>0</td>\n",
       "      <td>0</td>\n",
       "      <td>1</td>\n",
       "    </tr>\n",
       "    <tr>\n",
       "      <th>2</th>\n",
       "      <td>0</td>\n",
       "      <td>0</td>\n",
       "      <td>0</td>\n",
       "      <td>0</td>\n",
       "      <td>0</td>\n",
       "      <td>0</td>\n",
       "      <td>0</td>\n",
       "      <td>0</td>\n",
       "      <td>0</td>\n",
       "      <td>0</td>\n",
       "      <td>...</td>\n",
       "      <td>0</td>\n",
       "      <td>0</td>\n",
       "      <td>0</td>\n",
       "      <td>0</td>\n",
       "      <td>0</td>\n",
       "      <td>0</td>\n",
       "      <td>0</td>\n",
       "      <td>0</td>\n",
       "      <td>0</td>\n",
       "      <td>0</td>\n",
       "    </tr>\n",
       "    <tr>\n",
       "      <th>3</th>\n",
       "      <td>0</td>\n",
       "      <td>0</td>\n",
       "      <td>0</td>\n",
       "      <td>0</td>\n",
       "      <td>0</td>\n",
       "      <td>0</td>\n",
       "      <td>0</td>\n",
       "      <td>0</td>\n",
       "      <td>0</td>\n",
       "      <td>0</td>\n",
       "      <td>...</td>\n",
       "      <td>0</td>\n",
       "      <td>0</td>\n",
       "      <td>0</td>\n",
       "      <td>0</td>\n",
       "      <td>0</td>\n",
       "      <td>0</td>\n",
       "      <td>0</td>\n",
       "      <td>0</td>\n",
       "      <td>0</td>\n",
       "      <td>0</td>\n",
       "    </tr>\n",
       "    <tr>\n",
       "      <th>4</th>\n",
       "      <td>0</td>\n",
       "      <td>0</td>\n",
       "      <td>0</td>\n",
       "      <td>0</td>\n",
       "      <td>0</td>\n",
       "      <td>0</td>\n",
       "      <td>0</td>\n",
       "      <td>0</td>\n",
       "      <td>0</td>\n",
       "      <td>0</td>\n",
       "      <td>...</td>\n",
       "      <td>0</td>\n",
       "      <td>0</td>\n",
       "      <td>0</td>\n",
       "      <td>0</td>\n",
       "      <td>1</td>\n",
       "      <td>0</td>\n",
       "      <td>0</td>\n",
       "      <td>0</td>\n",
       "      <td>0</td>\n",
       "      <td>0</td>\n",
       "    </tr>\n",
       "  </tbody>\n",
       "</table>\n",
       "<p>5 rows × 120 columns</p>\n",
       "</div>"
      ],
      "text/plain": [
       "   candy bars  protein bar  tea  spaghetti  melons  salt  cauliflower  \\\n",
       "0           0            0    0          0       0     0            0   \n",
       "1           0            0    0          0       0     0            0   \n",
       "2           0            0    0          0       0     0            0   \n",
       "3           0            0    0          0       0     0            0   \n",
       "4           0            0    0          0       0     0            0   \n",
       "\n",
       "   gluten free bar  flax seed  champagne  ...  black tea  fromage blanc  \\\n",
       "0                0          0          0  ...          0              0   \n",
       "1                0          0          0  ...          0              0   \n",
       "2                0          0          0  ...          0              0   \n",
       "3                0          0          0  ...          0              0   \n",
       "4                0          0          0  ...          0              0   \n",
       "\n",
       "   napkins  energy drink  whole wheat rice  carrots  antioxydant juice  \\\n",
       "0        0             1                 0        0                  1   \n",
       "1        0             0                 0        0                  0   \n",
       "2        0             0                 0        0                  0   \n",
       "3        0             0                 0        0                  0   \n",
       "4        0             0                 1        0                  0   \n",
       "\n",
       "   fresh tuna  asparagus  eggs  \n",
       "0           0          0     0  \n",
       "1           0          0     1  \n",
       "2           0          0     0  \n",
       "3           0          0     0  \n",
       "4           0          0     0  \n",
       "\n",
       "[5 rows x 120 columns]"
      ]
     },
     "execution_count": 9,
     "metadata": {},
     "output_type": "execute_result"
    }
   ],
   "source": [
    "basket_encoded.head()"
   ]
  },
  {
   "cell_type": "markdown",
   "id": "6b8026c2",
   "metadata": {
    "papermill": {
     "duration": 0.01768,
     "end_time": "2023-03-03T08:34:56.302539",
     "exception": false,
     "start_time": "2023-03-03T08:34:56.284859",
     "status": "completed"
    },
    "tags": []
   },
   "source": [
    "We then choose only some specific items for simplicity, for this, we choose the items that are bought at least 5% of the time."
   ]
  },
  {
   "cell_type": "code",
   "execution_count": 10,
   "id": "dd3adc17",
   "metadata": {
    "execution": {
     "iopub.execute_input": "2023-03-03T08:34:56.342563Z",
     "iopub.status.busy": "2023-03-03T08:34:56.340763Z",
     "iopub.status.idle": "2023-03-03T08:34:56.363244Z",
     "shell.execute_reply": "2023-03-03T08:34:56.361519Z"
    },
    "papermill": {
     "duration": 0.045548,
     "end_time": "2023-03-03T08:34:56.366972",
     "exception": false,
     "start_time": "2023-03-03T08:34:56.321424",
     "status": "completed"
    },
    "tags": []
   },
   "outputs": [],
   "source": [
    "basket_encoded = basket_encoded[basket_encoded.columns[basket_encoded.mean() > 0.05]][basket_encoded.sum(axis=1) > 1]"
   ]
  },
  {
   "cell_type": "code",
   "execution_count": 11,
   "id": "d5fbd140",
   "metadata": {
    "execution": {
     "iopub.execute_input": "2023-03-03T08:34:56.404777Z",
     "iopub.status.busy": "2023-03-03T08:34:56.404319Z",
     "iopub.status.idle": "2023-03-03T08:34:56.410438Z",
     "shell.execute_reply": "2023-03-03T08:34:56.408979Z"
    },
    "papermill": {
     "duration": 0.029717,
     "end_time": "2023-03-03T08:34:56.414388",
     "exception": false,
     "start_time": "2023-03-03T08:34:56.384671",
     "status": "completed"
    },
    "tags": []
   },
   "outputs": [],
   "source": [
    "list_products = basket_encoded.columns"
   ]
  },
  {
   "attachments": {},
   "cell_type": "markdown",
   "id": "cb53c913",
   "metadata": {},
   "source": [
    "### Exploratory Data Analysis"
   ]
  },
  {
   "cell_type": "code",
   "execution_count": 12,
   "id": "69492436",
   "metadata": {},
   "outputs": [
    {
     "data": {
      "image/png": "[encoded data removed]",
      "text/plain": [
       "<Figure size 432x288 with 1 Axes>"
      ]
     },
     "metadata": {
      "needs_background": "light"
     },
     "output_type": "display_data"
    }
   ],
   "source": [
    "basket_encoded.sum(axis=0).plot(kind='bar')\n",
    "plt.show()"
   ]
  },
  {
   "cell_type": "code",
   "execution_count": 13,
   "id": "f3a49fe0",
   "metadata": {},
   "outputs": [
    {
     "data": {
      "image/png": "[encoded data removed]",
      "text/plain": [
       "<Figure size 432x288 with 1 Axes>"
      ]
     },
     "metadata": {
      "needs_background": "light"
     },
     "output_type": "display_data"
    }
   ],
   "source": [
    "basket_encoded.sum(axis=1).plot(kind='hist')\n",
    "plt.show()"
   ]
  },
  {
   "cell_type": "markdown",
   "id": "69d06386",
   "metadata": {
    "papermill": {
     "duration": 0.018114,
     "end_time": "2023-03-03T08:34:56.450234",
     "exception": false,
     "start_time": "2023-03-03T08:34:56.432120",
     "status": "completed"
    },
    "tags": []
   },
   "source": [
    "### Exploration with Association Rules Analysis"
   ]
  },
  {
   "cell_type": "markdown",
   "id": "bcc7bc04",
   "metadata": {
    "papermill": {
     "duration": 0.018012,
     "end_time": "2023-03-03T08:34:56.486178",
     "exception": false,
     "start_time": "2023-03-03T08:34:56.468166",
     "status": "completed"
    },
    "tags": []
   },
   "source": [
    "We then define the functions to generate the permutations and possible combinations, here we use n=3, which indicate that there will be at most total of 3 items considered in the if-then rules"
   ]
  },
  {
   "cell_type": "code",
   "execution_count": 14,
   "id": "8c96a89d",
   "metadata": {
    "execution": {
     "iopub.execute_input": "2023-03-03T08:34:56.525045Z",
     "iopub.status.busy": "2023-03-03T08:34:56.524499Z",
     "iopub.status.idle": "2023-03-03T08:34:56.534940Z",
     "shell.execute_reply": "2023-03-03T08:34:56.532897Z"
    },
    "papermill": {
     "duration": 0.034489,
     "end_time": "2023-03-03T08:34:56.538696",
     "exception": false,
     "start_time": "2023-03-03T08:34:56.504207",
     "status": "completed"
    },
    "tags": []
   },
   "outputs": [],
   "source": [
    "def generate_permutations(columns, n):\n",
    "    if n == 1:\n",
    "        return [(k,) for k in columns]\n",
    "    permutations = []\n",
    "    for i, c in enumerate(columns):\n",
    "        permutations.extend([(c,) + p for p in generate_permutations(columns[i+1:], n-1)])\n",
    "    return permutations\n",
    "\n",
    "def generate_all_possible_combinations(columns, n=3):\n",
    "    combinations = []\n",
    "    for i in range(1, n+1):\n",
    "        combinations.extend(generate_permutations(columns, i))\n",
    "    return combinations "
   ]
  },
  {
   "cell_type": "code",
   "execution_count": 15,
   "id": "093305f4",
   "metadata": {
    "execution": {
     "iopub.execute_input": "2023-03-03T08:34:56.583574Z",
     "iopub.status.busy": "2023-03-03T08:34:56.581290Z",
     "iopub.status.idle": "2023-03-03T08:34:56.595641Z",
     "shell.execute_reply": "2023-03-03T08:34:56.593514Z"
    },
    "papermill": {
     "duration": 0.041861,
     "end_time": "2023-03-03T08:34:56.598918",
     "exception": false,
     "start_time": "2023-03-03T08:34:56.557057",
     "status": "completed"
    },
    "tags": []
   },
   "outputs": [
    {
     "data": {
      "text/plain": [
       "[(1,),\n",
       " (2,),\n",
       " (3,),\n",
       " (4,),\n",
       " (1, 2),\n",
       " (1, 3),\n",
       " (1, 4),\n",
       " (2, 3),\n",
       " (2, 4),\n",
       " (3, 4),\n",
       " (1, 2, 3),\n",
       " (1, 2, 4),\n",
       " (1, 3, 4),\n",
       " (2, 3, 4)]"
      ]
     },
     "execution_count": 15,
     "metadata": {},
     "output_type": "execute_result"
    }
   ],
   "source": [
    "generate_all_possible_combinations([1,2,3,4], 3)"
   ]
  },
  {
   "cell_type": "code",
   "execution_count": 16,
   "id": "a37aa7ac",
   "metadata": {
    "execution": {
     "iopub.execute_input": "2023-03-03T08:34:56.636991Z",
     "iopub.status.busy": "2023-03-03T08:34:56.636511Z",
     "iopub.status.idle": "2023-03-03T08:34:56.648368Z",
     "shell.execute_reply": "2023-03-03T08:34:56.646816Z"
    },
    "papermill": {
     "duration": 0.034936,
     "end_time": "2023-03-03T08:34:56.651708",
     "exception": false,
     "start_time": "2023-03-03T08:34:56.616772",
     "status": "completed"
    },
    "tags": []
   },
   "outputs": [],
   "source": [
    "all_possible_basket_combinations = generate_all_possible_combinations(list_products, n=3)"
   ]
  },
  {
   "cell_type": "markdown",
   "id": "8a94bf47",
   "metadata": {
    "papermill": {
     "duration": 0.017572,
     "end_time": "2023-03-03T08:34:56.688151",
     "exception": false,
     "start_time": "2023-03-03T08:34:56.670579",
     "status": "completed"
    },
    "tags": []
   },
   "source": [
    "And we create the function to calculate the probabilities of each combination."
   ]
  },
  {
   "cell_type": "code",
   "execution_count": 17,
   "id": "75f5dd0b",
   "metadata": {
    "execution": {
     "iopub.execute_input": "2023-03-03T08:34:56.727286Z",
     "iopub.status.busy": "2023-03-03T08:34:56.726771Z",
     "iopub.status.idle": "2023-03-03T08:34:56.734848Z",
     "shell.execute_reply": "2023-03-03T08:34:56.733048Z"
    },
    "papermill": {
     "duration": 0.031293,
     "end_time": "2023-03-03T08:34:56.737927",
     "exception": false,
     "start_time": "2023-03-03T08:34:56.706634",
     "status": "completed"
    },
    "tags": []
   },
   "outputs": [],
   "source": [
    "def calculate_combination_probability(df, combination):\n",
    "    logic = None\n",
    "    for product in combination:\n",
    "        if logic is None:\n",
    "            logic = df[product] == 1\n",
    "            continue\n",
    "        logic &= (df[product] == 1)\n",
    "    return len(df[logic]) / len(df)"
   ]
  },
  {
   "cell_type": "code",
   "execution_count": 18,
   "id": "a1c5f7f6",
   "metadata": {
    "execution": {
     "iopub.execute_input": "2023-03-03T08:34:56.777262Z",
     "iopub.status.busy": "2023-03-03T08:34:56.776044Z",
     "iopub.status.idle": "2023-03-03T08:34:59.052835Z",
     "shell.execute_reply": "2023-03-03T08:34:59.050542Z"
    },
    "papermill": {
     "duration": 2.300506,
     "end_time": "2023-03-03T08:34:59.056403",
     "exception": false,
     "start_time": "2023-03-03T08:34:56.755897",
     "status": "completed"
    },
    "tags": []
   },
   "outputs": [],
   "source": [
    "probabilities = {}\n",
    "for combination in all_possible_basket_combinations:\n",
    "    probabilities[frozenset(combination)] = calculate_combination_probability(basket_encoded, combination)"
   ]
  },
  {
   "cell_type": "markdown",
   "id": "d9b3ab55",
   "metadata": {
    "papermill": {
     "duration": 0.018411,
     "end_time": "2023-03-03T08:34:59.092232",
     "exception": false,
     "start_time": "2023-03-03T08:34:59.073821",
     "status": "completed"
    },
    "tags": []
   },
   "source": [
    "Then we generate all possible rules."
   ]
  },
  {
   "cell_type": "code",
   "execution_count": 19,
   "id": "0f46c1d2",
   "metadata": {
    "execution": {
     "iopub.execute_input": "2023-03-03T08:34:59.130735Z",
     "iopub.status.busy": "2023-03-03T08:34:59.129915Z",
     "iopub.status.idle": "2023-03-03T08:34:59.139304Z",
     "shell.execute_reply": "2023-03-03T08:34:59.137389Z"
    },
    "papermill": {
     "duration": 0.031854,
     "end_time": "2023-03-03T08:34:59.142587",
     "exception": false,
     "start_time": "2023-03-03T08:34:59.110733",
     "status": "completed"
    },
    "tags": []
   },
   "outputs": [],
   "source": [
    "def generate_rules(combination):\n",
    "    possible_comb = generate_all_possible_combinations(combination)\n",
    "    rules = []\n",
    "    for if_ in possible_comb:\n",
    "        for then_ in possible_comb:\n",
    "            if set(if_).intersection(set(then_)).__len__() != 0:\n",
    "                continue\n",
    "            rules.append((if_, then_))\n",
    "    return rules"
   ]
  },
  {
   "cell_type": "code",
   "execution_count": 20,
   "id": "35f331b9",
   "metadata": {
    "execution": {
     "iopub.execute_input": "2023-03-03T08:34:59.181948Z",
     "iopub.status.busy": "2023-03-03T08:34:59.181424Z",
     "iopub.status.idle": "2023-03-03T08:34:59.190149Z",
     "shell.execute_reply": "2023-03-03T08:34:59.188135Z"
    },
    "papermill": {
     "duration": 0.031665,
     "end_time": "2023-03-03T08:34:59.193632",
     "exception": false,
     "start_time": "2023-03-03T08:34:59.161967",
     "status": "completed"
    },
    "tags": []
   },
   "outputs": [],
   "source": [
    "rules_generator = list(filter(lambda x: len(x) > 1, all_possible_basket_combinations))"
   ]
  },
  {
   "cell_type": "code",
   "execution_count": 21,
   "id": "3dbe2b32",
   "metadata": {
    "execution": {
     "iopub.execute_input": "2023-03-03T08:34:59.232066Z",
     "iopub.status.busy": "2023-03-03T08:34:59.230289Z",
     "iopub.status.idle": "2023-03-03T08:34:59.375837Z",
     "shell.execute_reply": "2023-03-03T08:34:59.374535Z"
    },
    "papermill": {
     "duration": 0.167434,
     "end_time": "2023-03-03T08:34:59.378858",
     "exception": false,
     "start_time": "2023-03-03T08:34:59.211424",
     "status": "completed"
    },
    "tags": []
   },
   "outputs": [],
   "source": [
    "rules = []\n",
    "\n",
    "for combination in rules_generator:\n",
    "    rules.extend(generate_rules(combination))"
   ]
  },
  {
   "cell_type": "code",
   "execution_count": 22,
   "id": "4379d217",
   "metadata": {
    "execution": {
     "iopub.execute_input": "2023-03-03T08:34:59.418757Z",
     "iopub.status.busy": "2023-03-03T08:34:59.417896Z",
     "iopub.status.idle": "2023-03-03T08:34:59.430424Z",
     "shell.execute_reply": "2023-03-03T08:34:59.428731Z"
    },
    "papermill": {
     "duration": 0.03673,
     "end_time": "2023-03-03T08:34:59.433846",
     "exception": false,
     "start_time": "2023-03-03T08:34:59.397116",
     "status": "completed"
    },
    "tags": []
   },
   "outputs": [],
   "source": [
    "rules = list(set(rules))"
   ]
  },
  {
   "cell_type": "code",
   "execution_count": 23,
   "id": "1f168eb8",
   "metadata": {
    "execution": {
     "iopub.execute_input": "2023-03-03T08:34:59.475271Z",
     "iopub.status.busy": "2023-03-03T08:34:59.473729Z",
     "iopub.status.idle": "2023-03-03T08:34:59.484726Z",
     "shell.execute_reply": "2023-03-03T08:34:59.482815Z"
    },
    "papermill": {
     "duration": 0.035765,
     "end_time": "2023-03-03T08:34:59.489067",
     "exception": false,
     "start_time": "2023-03-03T08:34:59.453302",
     "status": "completed"
    },
    "tags": []
   },
   "outputs": [
    {
     "data": {
      "text/plain": [
       "[(('cookies',), ('frozen vegetables', 'pancakes')),\n",
       " (('milk', 'eggs'), ('cake',)),\n",
       " (('shrimp',), ('olive oil', 'grated cheese')),\n",
       " (('shrimp', 'eggs'), ('milk',)),\n",
       " (('soup',), ('burgers', 'frozen smoothie'))]"
      ]
     },
     "execution_count": 23,
     "metadata": {},
     "output_type": "execute_result"
    }
   ],
   "source": [
    "rules[:5]"
   ]
  },
  {
   "cell_type": "markdown",
   "id": "8ed06d7c",
   "metadata": {
    "papermill": {
     "duration": 0.017718,
     "end_time": "2023-03-03T08:34:59.525608",
     "exception": false,
     "start_time": "2023-03-03T08:34:59.507890",
     "status": "completed"
    },
    "tags": []
   },
   "source": [
    "We then calculate each indicators to verify the relevancy of each rule"
   ]
  },
  {
   "cell_type": "code",
   "execution_count": 24,
   "id": "7a1255ad",
   "metadata": {
    "execution": {
     "iopub.execute_input": "2023-03-03T08:34:59.564147Z",
     "iopub.status.busy": "2023-03-03T08:34:59.563625Z",
     "iopub.status.idle": "2023-03-03T08:34:59.570258Z",
     "shell.execute_reply": "2023-03-03T08:34:59.568278Z"
    },
    "papermill": {
     "duration": 0.029776,
     "end_time": "2023-03-03T08:34:59.573349",
     "exception": false,
     "start_time": "2023-03-03T08:34:59.543573",
     "status": "completed"
    },
    "tags": []
   },
   "outputs": [],
   "source": [
    "rules_confidence = {}\n",
    "lift = {}\n",
    "support = {}"
   ]
  },
  {
   "cell_type": "code",
   "execution_count": 25,
   "id": "efa7a90f",
   "metadata": {
    "execution": {
     "iopub.execute_input": "2023-03-03T08:34:59.612445Z",
     "iopub.status.busy": "2023-03-03T08:34:59.611318Z",
     "iopub.status.idle": "2023-03-03T08:34:59.705210Z",
     "shell.execute_reply": "2023-03-03T08:34:59.703103Z"
    },
    "papermill": {
     "duration": 0.117369,
     "end_time": "2023-03-03T08:34:59.709029",
     "exception": false,
     "start_time": "2023-03-03T08:34:59.591660",
     "status": "completed"
    },
    "tags": []
   },
   "outputs": [],
   "source": [
    "for (if_, then_) in rules:\n",
    "    support[(if_, then_)] = probabilities[frozenset(if_ + then_)]\n",
    "    if probabilities[frozenset(if_)] != 0:\n",
    "        rules_confidence[(if_, then_)] = probabilities[frozenset(if_ + then_)] / probabilities[frozenset(if_)]\n",
    "        if probabilities[frozenset(then_)] != 0:\n",
    "            lift[(if_, then_)] = probabilities[frozenset(if_ + then_)] / (probabilities[frozenset(if_)] * probabilities[frozenset(then_)])"
   ]
  },
  {
   "cell_type": "markdown",
   "id": "df3e0d57",
   "metadata": {
    "papermill": {
     "duration": 0.018077,
     "end_time": "2023-03-03T08:34:59.744963",
     "exception": false,
     "start_time": "2023-03-03T08:34:59.726886",
     "status": "completed"
    },
    "tags": []
   },
   "source": [
    "We then filter all rules with the given conditions, then we get the association rules"
   ]
  },
  {
   "cell_type": "code",
   "execution_count": 26,
   "id": "a0685da7",
   "metadata": {
    "execution": {
     "iopub.execute_input": "2023-03-03T08:34:59.784250Z",
     "iopub.status.busy": "2023-03-03T08:34:59.783678Z",
     "iopub.status.idle": "2023-03-03T08:34:59.791521Z",
     "shell.execute_reply": "2023-03-03T08:34:59.789577Z"
    },
    "papermill": {
     "duration": 0.031046,
     "end_time": "2023-03-03T08:34:59.794343",
     "exception": false,
     "start_time": "2023-03-03T08:34:59.763297",
     "status": "completed"
    },
    "tags": []
   },
   "outputs": [],
   "source": [
    "def association_rules(support_lower=0.05, confidence_lower=0.9, lift_lower=1):\n",
    "    rules_list = list(lift.keys())\n",
    "    return list(filter(lambda x: support[x] > support_lower and rules_confidence[x] > confidence_lower and lift[x] > lift_lower, rules_list))"
   ]
  },
  {
   "cell_type": "code",
   "execution_count": 27,
   "id": "65bd7cc0",
   "metadata": {
    "execution": {
     "iopub.execute_input": "2023-03-03T08:34:59.832972Z",
     "iopub.status.busy": "2023-03-03T08:34:59.832475Z",
     "iopub.status.idle": "2023-03-03T08:34:59.855940Z",
     "shell.execute_reply": "2023-03-03T08:34:59.854555Z"
    },
    "papermill": {
     "duration": 0.046413,
     "end_time": "2023-03-03T08:34:59.858893",
     "exception": false,
     "start_time": "2023-03-03T08:34:59.812480",
     "status": "completed"
    },
    "tags": []
   },
   "outputs": [
    {
     "data": {
      "text/html": [
       "<div>\n",
       "<style scoped>\n",
       "    .dataframe tbody tr th:only-of-type {\n",
       "        vertical-align: middle;\n",
       "    }\n",
       "\n",
       "    .dataframe tbody tr th {\n",
       "        vertical-align: top;\n",
       "    }\n",
       "\n",
       "    .dataframe thead th {\n",
       "        text-align: right;\n",
       "    }\n",
       "</style>\n",
       "<table border=\"1\" class=\"dataframe\">\n",
       "  <thead>\n",
       "    <tr style=\"text-align: right;\">\n",
       "      <th></th>\n",
       "    </tr>\n",
       "  </thead>\n",
       "  <tbody>\n",
       "  </tbody>\n",
       "</table>\n",
       "</div>"
      ],
      "text/plain": [
       "Empty DataFrame\n",
       "Columns: []\n",
       "Index: []"
      ]
     },
     "execution_count": 27,
     "metadata": {},
     "output_type": "execute_result"
    }
   ],
   "source": [
    "pd.DataFrame(association_rules(support_lower=0.0005))"
   ]
  },
  {
   "cell_type": "markdown",
   "id": "09f5c812",
   "metadata": {
    "papermill": {
     "duration": 0.018205,
     "end_time": "2023-03-03T08:34:59.894921",
     "exception": false,
     "start_time": "2023-03-03T08:34:59.876716",
     "status": "completed"
    },
    "tags": []
   },
   "source": [
    "---"
   ]
  },
  {
   "cell_type": "markdown",
   "id": "74885da0",
   "metadata": {
    "papermill": {
     "duration": 0.017633,
     "end_time": "2023-03-03T08:34:59.931620",
     "exception": false,
     "start_time": "2023-03-03T08:34:59.913987",
     "status": "completed"
    },
    "tags": []
   },
   "source": [
    "### Visualization of how we can use Decision Tree with Rules Selection"
   ]
  },
  {
   "cell_type": "markdown",
   "id": "b67d57f3",
   "metadata": {
    "papermill": {
     "duration": 0.017438,
     "end_time": "2023-03-03T08:34:59.966708",
     "exception": false,
     "start_time": "2023-03-03T08:34:59.949270",
     "status": "completed"
    },
    "tags": []
   },
   "source": [
    "For example, we want to see the possible rules that a customer will buy milk. We then use the [Decision Tree Model from scikit-learn](https://scikit-learn.org/stable/modules/tree.html) to deal with Decision Trees"
   ]
  },
  {
   "cell_type": "code",
   "execution_count": 28,
   "id": "f55b22b2",
   "metadata": {
    "execution": {
     "iopub.execute_input": "2023-03-03T08:35:00.005496Z",
     "iopub.status.busy": "2023-03-03T08:35:00.005041Z",
     "iopub.status.idle": "2023-03-03T08:35:01.930240Z",
     "shell.execute_reply": "2023-03-03T08:35:01.928339Z"
    },
    "papermill": {
     "duration": 1.949347,
     "end_time": "2023-03-03T08:35:01.933848",
     "exception": false,
     "start_time": "2023-03-03T08:34:59.984501",
     "status": "completed"
    },
    "tags": []
   },
   "outputs": [],
   "source": [
    "from sklearn.tree import DecisionTreeClassifier"
   ]
  },
  {
   "cell_type": "code",
   "execution_count": 29,
   "id": "f0351cbb",
   "metadata": {
    "execution": {
     "iopub.execute_input": "2023-03-03T08:35:01.973824Z",
     "iopub.status.busy": "2023-03-03T08:35:01.973339Z",
     "iopub.status.idle": "2023-03-03T08:35:01.980524Z",
     "shell.execute_reply": "2023-03-03T08:35:01.978610Z"
    },
    "papermill": {
     "duration": 0.030393,
     "end_time": "2023-03-03T08:35:01.983828",
     "exception": false,
     "start_time": "2023-03-03T08:35:01.953435",
     "status": "completed"
    },
    "tags": []
   },
   "outputs": [],
   "source": [
    "tree = DecisionTreeClassifier(max_depth=5)"
   ]
  },
  {
   "cell_type": "code",
   "execution_count": 30,
   "id": "9baa5844",
   "metadata": {
    "execution": {
     "iopub.execute_input": "2023-03-03T08:35:02.023660Z",
     "iopub.status.busy": "2023-03-03T08:35:02.023185Z",
     "iopub.status.idle": "2023-03-03T08:35:02.029755Z",
     "shell.execute_reply": "2023-03-03T08:35:02.028113Z"
    },
    "papermill": {
     "duration": 0.031114,
     "end_time": "2023-03-03T08:35:02.033047",
     "exception": false,
     "start_time": "2023-03-03T08:35:02.001933",
     "status": "completed"
    },
    "tags": []
   },
   "outputs": [],
   "source": [
    "interested_product = 'milk'"
   ]
  },
  {
   "cell_type": "code",
   "execution_count": 31,
   "id": "7a75f48d",
   "metadata": {
    "execution": {
     "iopub.execute_input": "2023-03-03T08:35:02.071636Z",
     "iopub.status.busy": "2023-03-03T08:35:02.070963Z",
     "iopub.status.idle": "2023-03-03T08:35:02.080508Z",
     "shell.execute_reply": "2023-03-03T08:35:02.078530Z"
    },
    "papermill": {
     "duration": 0.033076,
     "end_time": "2023-03-03T08:35:02.084053",
     "exception": false,
     "start_time": "2023-03-03T08:35:02.050977",
     "status": "completed"
    },
    "tags": []
   },
   "outputs": [],
   "source": [
    "y = basket_encoded[interested_product]\n",
    "X = basket_encoded.drop(interested_product, axis=1)"
   ]
  },
  {
   "cell_type": "code",
   "execution_count": 32,
   "id": "b4f33b26",
   "metadata": {
    "execution": {
     "iopub.execute_input": "2023-03-03T08:35:02.122065Z",
     "iopub.status.busy": "2023-03-03T08:35:02.121533Z",
     "iopub.status.idle": "2023-03-03T08:35:02.149233Z",
     "shell.execute_reply": "2023-03-03T08:35:02.147355Z"
    },
    "papermill": {
     "duration": 0.050568,
     "end_time": "2023-03-03T08:35:02.152515",
     "exception": false,
     "start_time": "2023-03-03T08:35:02.101947",
     "status": "completed"
    },
    "tags": []
   },
   "outputs": [
    {
     "data": {
      "text/html": [
       "<style>#sk-container-id-1 {color: black;background-color: white;}#sk-container-id-1 pre{padding: 0;}#sk-container-id-1 div.sk-toggleable {background-color: white;}#sk-container-id-1 label.sk-toggleable__label {cursor: pointer;display: block;width: 100%;margin-bottom: 0;padding: 0.3em;box-sizing: border-box;text-align: center;}#sk-container-id-1 label.sk-toggleable__label-arrow:before {content: \"▸\";float: left;margin-right: 0.25em;color: #696969;}#sk-container-id-1 label.sk-toggleable__label-arrow:hover:before {color: black;}#sk-container-id-1 div.sk-estimator:hover label.sk-toggleable__label-arrow:before {color: black;}#sk-container-id-1 div.sk-toggleable__content {max-height: 0;max-width: 0;overflow: hidden;text-align: left;background-color: #f0f8ff;}#sk-container-id-1 div.sk-toggleable__content pre {margin: 0.2em;color: black;border-radius: 0.25em;background-color: #f0f8ff;}#sk-container-id-1 input.sk-toggleable__control:checked~div.sk-toggleable__content {max-height: 200px;max-width: 100%;overflow: auto;}#sk-container-id-1 input.sk-toggleable__control:checked~label.sk-toggleable__label-arrow:before {content: \"▾\";}#sk-container-id-1 div.sk-estimator input.sk-toggleable__control:checked~label.sk-toggleable__label {background-color: #d4ebff;}#sk-container-id-1 div.sk-label input.sk-toggleable__control:checked~label.sk-toggleable__label {background-color: #d4ebff;}#sk-container-id-1 input.sk-hidden--visually {border: 0;clip: rect(1px 1px 1px 1px);clip: rect(1px, 1px, 1px, 1px);height: 1px;margin: -1px;overflow: hidden;padding: 0;position: absolute;width: 1px;}#sk-container-id-1 div.sk-estimator {font-family: monospace;background-color: #f0f8ff;border: 1px dotted black;border-radius: 0.25em;box-sizing: border-box;margin-bottom: 0.5em;}#sk-container-id-1 div.sk-estimator:hover {background-color: #d4ebff;}#sk-container-id-1 div.sk-parallel-item::after {content: \"\";width: 100%;border-bottom: 1px solid gray;flex-grow: 1;}#sk-container-id-1 div.sk-label:hover label.sk-toggleable__label {background-color: #d4ebff;}#sk-container-id-1 div.sk-serial::before {content: \"\";position: absolute;border-left: 1px solid gray;box-sizing: border-box;top: 0;bottom: 0;left: 50%;z-index: 0;}#sk-container-id-1 div.sk-serial {display: flex;flex-direction: column;align-items: center;background-color: white;padding-right: 0.2em;padding-left: 0.2em;position: relative;}#sk-container-id-1 div.sk-item {position: relative;z-index: 1;}#sk-container-id-1 div.sk-parallel {display: flex;align-items: stretch;justify-content: center;background-color: white;position: relative;}#sk-container-id-1 div.sk-item::before, #sk-container-id-1 div.sk-parallel-item::before {content: \"\";position: absolute;border-left: 1px solid gray;box-sizing: border-box;top: 0;bottom: 0;left: 50%;z-index: -1;}#sk-container-id-1 div.sk-parallel-item {display: flex;flex-direction: column;z-index: 1;position: relative;background-color: white;}#sk-container-id-1 div.sk-parallel-item:first-child::after {align-self: flex-end;width: 50%;}#sk-container-id-1 div.sk-parallel-item:last-child::after {align-self: flex-start;width: 50%;}#sk-container-id-1 div.sk-parallel-item:only-child::after {width: 0;}#sk-container-id-1 div.sk-dashed-wrapped {border: 1px dashed gray;margin: 0 0.4em 0.5em 0.4em;box-sizing: border-box;padding-bottom: 0.4em;background-color: white;}#sk-container-id-1 div.sk-label label {font-family: monospace;font-weight: bold;display: inline-block;line-height: 1.2em;}#sk-container-id-1 div.sk-label-container {text-align: center;}#sk-container-id-1 div.sk-container {/* jupyter's `normalize.less` sets `[hidden] { display: none; }` but bootstrap.min.css set `[hidden] { display: none !important; }` so we also need the `!important` here to be able to override the default hidden behavior on the sphinx rendered scikit-learn.org. See: https://github.com/scikit-learn/scikit-learn/issues/21755 */display: inline-block !important;position: relative;}#sk-container-id-1 div.sk-text-repr-fallback {display: none;}</style><div id=\"sk-container-id-1\" class=\"sk-top-container\"><div class=\"sk-text-repr-fallback\"><pre>DecisionTreeClassifier(max_depth=5)</pre><b>In a Jupyter environment, please rerun this cell to show the HTML representation or trust the notebook. <br />On GitHub, the HTML representation is unable to render, please try loading this page with nbviewer.org.</b></div><div class=\"sk-container\" hidden><div class=\"sk-item\"><div class=\"sk-estimator sk-toggleable\"><input class=\"sk-toggleable__control sk-hidden--visually\" id=\"sk-estimator-id-1\" type=\"checkbox\" checked><label for=\"sk-estimator-id-1\" class=\"sk-toggleable__label sk-toggleable__label-arrow\">DecisionTreeClassifier</label><div class=\"sk-toggleable__content\"><pre>DecisionTreeClassifier(max_depth=5)</pre></div></div></div></div></div>"
      ],
      "text/plain": [
       "DecisionTreeClassifier(max_depth=5)"
      ]
     },
     "execution_count": 32,
     "metadata": {},
     "output_type": "execute_result"
    }
   ],
   "source": [
    "tree.fit(X, y)"
   ]
  },
  {
   "cell_type": "markdown",
   "id": "70b3d222",
   "metadata": {
    "papermill": {
     "duration": 0.018423,
     "end_time": "2023-03-03T08:35:02.190790",
     "exception": false,
     "start_time": "2023-03-03T08:35:02.172367",
     "status": "completed"
    },
    "tags": []
   },
   "source": [
    "We then define the function to get all possible rules from the tree that a customer will buy milk"
   ]
  },
  {
   "cell_type": "code",
   "execution_count": 33,
   "id": "3e27d6a6",
   "metadata": {
    "execution": {
     "iopub.execute_input": "2023-03-03T08:35:02.230778Z",
     "iopub.status.busy": "2023-03-03T08:35:02.230233Z",
     "iopub.status.idle": "2023-03-03T08:35:02.242882Z",
     "shell.execute_reply": "2023-03-03T08:35:02.241313Z"
    },
    "papermill": {
     "duration": 0.03786,
     "end_time": "2023-03-03T08:35:02.246603",
     "exception": false,
     "start_time": "2023-03-03T08:35:02.208743",
     "status": "completed"
    },
    "tags": []
   },
   "outputs": [],
   "source": [
    "def get_association_rules_from_tree(tree, feature_names, out):\n",
    "    left      = tree.tree_.children_left\n",
    "    right     = tree.tree_.children_right\n",
    "    threshold = tree.tree_.threshold\n",
    "    features  = [feature_names[i] for i in tree.tree_.feature]\n",
    "\n",
    "    # get ids of child nodes\n",
    "    idx = np.argwhere(left == -1)[:,0]     \n",
    "\n",
    "    def recurse(left, right, child, lineage=None):\n",
    "        if lineage is None:\n",
    "            buy = np.argmax(tree.tree_.value[child]) \n",
    "            lineage = [buy]\n",
    "        if child in left:\n",
    "            parent = np.where(left == child)[0].item()\n",
    "            split = 'l'\n",
    "        else:\n",
    "            parent = np.where(right == child)[0].item()\n",
    "            split = 'r'\n",
    "\n",
    "        lineage.append((parent, split, threshold[parent], features[parent]))\n",
    "\n",
    "        if parent == 0:\n",
    "            lineage.reverse()\n",
    "            return lineage\n",
    "        else:\n",
    "            return recurse(left, right, parent, lineage)\n",
    "    \n",
    "    rules = []\n",
    "\n",
    "    currule = tuple()\n",
    "    for child in idx:\n",
    "        for node in recurse(left, right, child):\n",
    "            if isinstance(node, np.int64):\n",
    "                if node == 1:\n",
    "                    rules.append((currule, out))\n",
    "                currule = tuple()\n",
    "                continue\n",
    "            if node[1] == 'r':\n",
    "                currule = (node[3],) + currule\n",
    "    return rules\n"
   ]
  },
  {
   "cell_type": "code",
   "execution_count": 34,
   "id": "9b35f601",
   "metadata": {
    "execution": {
     "iopub.execute_input": "2023-03-03T08:35:02.284983Z",
     "iopub.status.busy": "2023-03-03T08:35:02.284535Z",
     "iopub.status.idle": "2023-03-03T08:35:02.299036Z",
     "shell.execute_reply": "2023-03-03T08:35:02.297376Z"
    },
    "papermill": {
     "duration": 0.037703,
     "end_time": "2023-03-03T08:35:02.302498",
     "exception": false,
     "start_time": "2023-03-03T08:35:02.264795",
     "status": "completed"
    },
    "tags": []
   },
   "outputs": [],
   "source": [
    "rules = get_association_rules_from_tree(tree, tree.feature_names_in_, out=('milk',))"
   ]
  },
  {
   "cell_type": "markdown",
   "id": "83be0b2d",
   "metadata": {
    "papermill": {
     "duration": 0.018092,
     "end_time": "2023-03-03T08:35:02.339259",
     "exception": false,
     "start_time": "2023-03-03T08:35:02.321167",
     "status": "completed"
    },
    "tags": []
   },
   "source": [
    "Then we calculate the support, confidence and lift of the rules we obtained from Decicion Tree"
   ]
  },
  {
   "cell_type": "code",
   "execution_count": 35,
   "id": "3e3a5945",
   "metadata": {
    "execution": {
     "iopub.execute_input": "2023-03-03T08:35:02.378784Z",
     "iopub.status.busy": "2023-03-03T08:35:02.377914Z",
     "iopub.status.idle": "2023-03-03T08:35:02.384610Z",
     "shell.execute_reply": "2023-03-03T08:35:02.383311Z"
    },
    "papermill": {
     "duration": 0.02989,
     "end_time": "2023-03-03T08:35:02.388159",
     "exception": false,
     "start_time": "2023-03-03T08:35:02.358269",
     "status": "completed"
    },
    "tags": []
   },
   "outputs": [],
   "source": [
    "support_milk = {}\n",
    "confidence_milk = {}\n",
    "lift_milk = {}"
   ]
  },
  {
   "cell_type": "code",
   "execution_count": 36,
   "id": "d9afdc0f",
   "metadata": {
    "execution": {
     "iopub.execute_input": "2023-03-03T08:35:02.426950Z",
     "iopub.status.busy": "2023-03-03T08:35:02.425796Z",
     "iopub.status.idle": "2023-03-03T08:35:02.454651Z",
     "shell.execute_reply": "2023-03-03T08:35:02.453095Z"
    },
    "papermill": {
     "duration": 0.051545,
     "end_time": "2023-03-03T08:35:02.457744",
     "exception": false,
     "start_time": "2023-03-03T08:35:02.406199",
     "status": "completed"
    },
    "tags": []
   },
   "outputs": [],
   "source": [
    "for comb1, comb2 in rules:\n",
    "    support_milk[(comb1, comb2)] = calculate_combination_probability(basket_encoded, comb1 + comb2)\n",
    "    confidence_milk[(comb1, comb2)] = support_milk[(comb1, comb2)] / calculate_combination_probability(basket_encoded, comb1)\n",
    "    lift_milk[(comb1, comb2)] = confidence_milk[(comb1, comb2)] / calculate_combination_probability(basket_encoded, comb2)"
   ]
  },
  {
   "cell_type": "code",
   "execution_count": 37,
   "id": "fb28cea4",
   "metadata": {
    "execution": {
     "iopub.execute_input": "2023-03-03T08:35:02.495106Z",
     "iopub.status.busy": "2023-03-03T08:35:02.494537Z",
     "iopub.status.idle": "2023-03-03T08:35:02.504110Z",
     "shell.execute_reply": "2023-03-03T08:35:02.502387Z"
    },
    "papermill": {
     "duration": 0.031755,
     "end_time": "2023-03-03T08:35:02.507052",
     "exception": false,
     "start_time": "2023-03-03T08:35:02.475297",
     "status": "completed"
    },
    "tags": []
   },
   "outputs": [
    {
     "data": {
      "text/plain": [
       "{(('cooking oil', 'eggs', 'frozen vegetables'), ('milk',)): 3.6002004635720097,\n",
       " (('burgers', 'whole wheat rice', 'soup'), ('milk',)): 4.896272630457934,\n",
       " (('cooking oil', 'frozen vegetables', 'soup'), ('milk',)): 3.0601703940362084,\n",
       " (('chicken', 'frozen vegetables', 'soup'), ('milk',)): 5.246006389776358,\n",
       " (('mineral water', 'frozen vegetables', 'soup'),\n",
       "  ('milk',)): 3.7044167927806737,\n",
       " (('tomatoes', 'mineral water', 'frozen vegetables', 'soup'),\n",
       "  ('milk',)): 5.3552981895633645}"
      ]
     },
     "execution_count": 37,
     "metadata": {},
     "output_type": "execute_result"
    }
   ],
   "source": [
    "lift_milk"
   ]
  },
  {
   "cell_type": "markdown",
   "id": "541abc01",
   "metadata": {
    "papermill": {
     "duration": 0.020295,
     "end_time": "2023-03-03T08:35:02.545173",
     "exception": false,
     "start_time": "2023-03-03T08:35:02.524878",
     "status": "completed"
    },
    "tags": []
   },
   "source": [
    "---"
   ]
  },
  {
   "cell_type": "markdown",
   "id": "bb1ad1e1",
   "metadata": {
    "papermill": {
     "duration": 0.018475,
     "end_time": "2023-03-03T08:35:02.581758",
     "exception": false,
     "start_time": "2023-03-03T08:35:02.563283",
     "status": "completed"
    },
    "tags": []
   },
   "source": [
    "### Class Implementation of Association Rules and Association Trees"
   ]
  },
  {
   "cell_type": "markdown",
   "id": "b98bbc5f",
   "metadata": {
    "papermill": {
     "duration": 0.019097,
     "end_time": "2023-03-03T08:35:02.618377",
     "exception": false,
     "start_time": "2023-03-03T08:35:02.599280",
     "status": "completed"
    },
    "tags": []
   },
   "source": [
    "In this portion of the code, we create the generalized version of models for **Association Rules Analysis**, with its combination with the **Decision Trees**."
   ]
  },
  {
   "cell_type": "code",
   "execution_count": 38,
   "id": "1bfe01de",
   "metadata": {
    "execution": {
     "iopub.execute_input": "2023-03-03T08:35:02.658257Z",
     "iopub.status.busy": "2023-03-03T08:35:02.657735Z",
     "iopub.status.idle": "2023-03-03T08:35:02.662828Z",
     "shell.execute_reply": "2023-03-03T08:35:02.661694Z"
    },
    "papermill": {
     "duration": 0.029368,
     "end_time": "2023-03-03T08:35:02.665989",
     "exception": false,
     "start_time": "2023-03-03T08:35:02.636621",
     "status": "completed"
    },
    "tags": []
   },
   "outputs": [],
   "source": [
    "from dataclasses import dataclass"
   ]
  },
  {
   "cell_type": "code",
   "execution_count": 39,
   "id": "72cf0a8a",
   "metadata": {
    "execution": {
     "iopub.execute_input": "2023-03-03T08:35:02.704356Z",
     "iopub.status.busy": "2023-03-03T08:35:02.703382Z",
     "iopub.status.idle": "2023-03-03T08:35:02.710888Z",
     "shell.execute_reply": "2023-03-03T08:35:02.709094Z"
    },
    "papermill": {
     "duration": 0.029998,
     "end_time": "2023-03-03T08:35:02.713989",
     "exception": false,
     "start_time": "2023-03-03T08:35:02.683991",
     "status": "completed"
    },
    "tags": []
   },
   "outputs": [],
   "source": [
    "@dataclass\n",
    "class AssociationRule:\n",
    "    if_: tuple\n",
    "    then_: tuple\n",
    "    support: float\n",
    "    confidence: float\n",
    "    lift: float"
   ]
  },
  {
   "cell_type": "code",
   "execution_count": 40,
   "id": "c3600792",
   "metadata": {
    "execution": {
     "iopub.execute_input": "2023-03-03T08:35:02.753192Z",
     "iopub.status.busy": "2023-03-03T08:35:02.752349Z",
     "iopub.status.idle": "2023-03-03T08:35:02.781102Z",
     "shell.execute_reply": "2023-03-03T08:35:02.779448Z"
    },
    "papermill": {
     "duration": 0.052736,
     "end_time": "2023-03-03T08:35:02.784868",
     "exception": false,
     "start_time": "2023-03-03T08:35:02.732132",
     "status": "completed"
    },
    "tags": []
   },
   "outputs": [],
   "source": [
    "class AssociaitionRulesModel:\n",
    "    def __init__(self, support_lower: float, confidence_lower: float, lift_lower: float, n_products=3):\n",
    "        self.support_lower = support_lower\n",
    "        self.confidence_lower = confidence_lower\n",
    "        self.lift_lower = lift_lower\n",
    "        self.n_products = n_products\n",
    "    \n",
    "    @staticmethod\n",
    "    def generate_permutations(columns: list, n: int):\n",
    "        if n == 1:\n",
    "            return [(k,) for k in columns]\n",
    "        permutations = []\n",
    "        for i, c in enumerate(columns):\n",
    "            permutations.extend([(c,) + p for p in generate_permutations(columns[i+1:], n-1)])\n",
    "        return permutations\n",
    "\n",
    "    @staticmethod\n",
    "    def generate_all_possible_combinations(columns: list, n: int):\n",
    "        combinations = []\n",
    "        for i in range(1, n+1):\n",
    "            combinations.extend(generate_permutations(columns, i))\n",
    "        return combinations \n",
    "    \n",
    "    @staticmethod\n",
    "    def calculate_combination_probability(df: pd.DataFrame, combination: tuple):\n",
    "        logic = None\n",
    "        for product in combination:\n",
    "            if logic is None:\n",
    "                logic = df[product] == 1\n",
    "                continue\n",
    "            logic &= (df[product] == 1)\n",
    "        return len(df[logic]) / len(df)\n",
    "    \n",
    "    def calculate_all_probabilities(self, X: pd.DataFrame):\n",
    "        self.probabilities_ = {}\n",
    "        for combination in self.all_possible_combinations_:\n",
    "            self.probabilities_[frozenset(combination)] = calculate_combination_probability(X, combination)\n",
    "        return self.probabilities_\n",
    "    \n",
    "    def generate_all_rules(self):\n",
    "        rules = []\n",
    "        rules_generator = list(filter(lambda x: len(x) > 1, self.all_possible_combinations_))\n",
    "        for combination in rules_generator:\n",
    "            rules.extend(self.generate_combination_rules(combination))\n",
    "        self.all_rules_ = list(set(rules))\n",
    "        return self.all_rules_\n",
    "    \n",
    "    def generate_combination_rules(self, combination: tuple):\n",
    "        possible_comb = self.generate_all_possible_combinations(combination, self.n_products)\n",
    "        rules = []\n",
    "        for if_ in possible_comb:\n",
    "            for then_ in possible_comb:\n",
    "                if set(if_).intersection(set(then_)).__len__() != 0:\n",
    "                    continue\n",
    "                rules.append((if_, then_))\n",
    "        return rules\n",
    "    \n",
    "    def calculate_rule_metric(self, rule: tuple):\n",
    "        if_, then_ = rule\n",
    "        support = self.probabilities_[frozenset(if_ + then_)]\n",
    "        confidence = 0\n",
    "        lift = 0\n",
    "        if self.probabilities_[frozenset(if_)] != 0:\n",
    "            confidence = self.probabilities_[frozenset(if_ + then_)] / self.probabilities_[frozenset(if_)]\n",
    "            if self.probabilities_[frozenset(then_)] != 0:\n",
    "                lift = self.probabilities_[frozenset(if_ + then_)] / (self.probabilities_[frozenset(if_)] * self.probabilities_[frozenset(then_)])\n",
    "        association_rule = AssociationRule(if_=if_, then_=then_, support=support, confidence=confidence, lift=lift)\n",
    "        return association_rule\n",
    "    \n",
    "    def calculate_metrics(self):\n",
    "        self.association_metrics_ = []\n",
    "        for rule in self.all_rules_:\n",
    "            self.association_metrics_.append(self.calculate_rule_metric(rule))\n",
    "        return self.association_metrics_\n",
    "    \n",
    "    def association_rules(self):\n",
    "        return list(filter(lambda x: x.support > self.support_lower and x.confidence > self.confidence_lower and x.lift > self.lift_lower, self.association_metrics_))\n",
    "\n",
    "    def fit(self, X: pd.DataFrame):\n",
    "        self.feature_names_ = X.columns\n",
    "        self.all_possible_combinations_ = self.generate_all_possible_combinations(X.columns, self.n_products)\n",
    "        self.calculate_all_probabilities(X)\n",
    "        self.generate_all_rules()\n",
    "        self.calculate_metrics()\n",
    "        self.association_rules_ = self.association_rules()\n",
    "    \n",
    "    def accuracy(self, Xtest: pd.DataFrame):\n",
    "        test_rules = []\n",
    "        for rule in self.association_rules_:\n",
    "            if_ = rule.if_; then_ = rule.then_\n",
    "            support = self.calculate_combination_probability(Xtest, if_ + then_)\n",
    "            if_prob = self.calculate_combination_probability(Xtest, if_)\n",
    "            then_prob = self.calculate_combination_probability(Xtest, then_)\n",
    "            confidence = support / if_prob if if_prob != 0 else 0\n",
    "            lift = confidence / then_prob if then_prob != 0 else 0\n",
    "            test_rule = AssociationRule(if_, then_, support, confidence, lift)\n",
    "            test_rules.append(test_rule)\n",
    "        return test_rules\n",
    "            "
   ]
  },
  {
   "cell_type": "code",
   "execution_count": 41,
   "id": "4f92b83e",
   "metadata": {
    "execution": {
     "iopub.execute_input": "2023-03-03T08:35:02.825085Z",
     "iopub.status.busy": "2023-03-03T08:35:02.824205Z",
     "iopub.status.idle": "2023-03-03T08:35:02.853012Z",
     "shell.execute_reply": "2023-03-03T08:35:02.851649Z"
    },
    "papermill": {
     "duration": 0.052637,
     "end_time": "2023-03-03T08:35:02.856100",
     "exception": false,
     "start_time": "2023-03-03T08:35:02.803463",
     "status": "completed"
    },
    "tags": []
   },
   "outputs": [],
   "source": [
    "class AssociationTree(AssociaitionRulesModel):\n",
    "    def __init__(self, support_lower: float, confidence_lower: float, lift_lower: float, n_products=3):\n",
    "        super().__init__(support_lower, confidence_lower, lift_lower, n_products)\n",
    "        self.probabilities_ = {}\n",
    "    \n",
    "    @staticmethod\n",
    "    def get_association_rules_from_tree(tree: DecisionTreeClassifier, feature_names: list, out: tuple):\n",
    "        left      = tree.tree_.children_left\n",
    "        right     = tree.tree_.children_right\n",
    "        threshold = tree.tree_.threshold\n",
    "        features  = [feature_names[i] for i in tree.tree_.feature]\n",
    "\n",
    "        # get ids of child nodes\n",
    "        idx = np.argwhere(left == -1)[:,0]     \n",
    "\n",
    "        def recurse(left, right, child, lineage=None):\n",
    "            if lineage is None:\n",
    "                buy = np.argmax(tree.tree_.value[child]) \n",
    "                lineage = [buy]\n",
    "            if child in left:\n",
    "                parent = np.where(left == child)[0].item()\n",
    "                split = 'l'\n",
    "            else:\n",
    "                parent = np.where(right == child)[0].item()\n",
    "                split = 'r'\n",
    "\n",
    "            lineage.append((parent, split, threshold[parent], features[parent]))\n",
    "\n",
    "            if parent == 0:\n",
    "                lineage.reverse()\n",
    "                return lineage\n",
    "            else:\n",
    "                return recurse(left, right, parent, lineage)\n",
    "        \n",
    "        rules = []\n",
    "\n",
    "        currule = tuple()\n",
    "        for child in idx:\n",
    "            for node in recurse(left, right, child):\n",
    "                if isinstance(node, np.int64):\n",
    "                    if node == 1:\n",
    "                        rules.append((currule, out))\n",
    "                    currule = tuple()\n",
    "                    continue\n",
    "                if node[1] == 'r':\n",
    "                    currule = (node[3],) + currule\n",
    "        return rules\n",
    "    \n",
    "    def generate_feature_name_rules(self, X, feature_name):\n",
    "        tree = DecisionTreeClassifier(max_depth=self.n_products)\n",
    "        y = X[feature_name]\n",
    "        Xtree = X.drop(feature_name, axis=1)\n",
    "        tree.fit(Xtree, y)\n",
    "        return self.get_association_rules_from_tree(tree, tree.feature_names_in_, out=(feature_name,))\n",
    "\n",
    "    def generate_all_rules(self, X: pd.DataFrame):\n",
    "        self.all_rules_ = []\n",
    "        for feature_name in self.feature_names_:\n",
    "            rules = self.generate_feature_name_rules(X, feature_name)\n",
    "            self.all_rules_.extend(rules)\n",
    "    \n",
    "    def calculate_rule_metric(self, rule: tuple):\n",
    "        if_, then_ = rule\n",
    "        if frozenset(if_ + then_) not in self.probabilities_.keys():\n",
    "            p = self.calculate_combination_probability(self._X, if_ + then_)\n",
    "            self.probabilities_[frozenset(if_ + then_)] = p\n",
    "        if frozenset(if_) not in self.probabilities_.keys():\n",
    "            p = self.calculate_combination_probability(self._X, if_)\n",
    "            self.probabilities_[frozenset(if_)] = p\n",
    "        if frozenset(then_) not in self.probabilities_.keys():\n",
    "            p = self.calculate_combination_probability(self._X, then_)\n",
    "            self.probabilities_[frozenset(then_)] = p\n",
    "        support = self.probabilities_[frozenset(if_ + then_)]\n",
    "        confidence = 0\n",
    "        lift = 0\n",
    "        if self.probabilities_[frozenset(if_)] != 0:\n",
    "            confidence = self.probabilities_[frozenset(if_ + then_)] / self.probabilities_[frozenset(if_)]\n",
    "            if self.probabilities_[frozenset(then_)] != 0:\n",
    "                lift = self.probabilities_[frozenset(if_ + then_)] / (self.probabilities_[frozenset(if_)] * self.probabilities_[frozenset(then_)])\n",
    "        association_rule = AssociationRule(if_=if_, then_=then_, support=support, confidence=confidence, lift=lift)\n",
    "        return association_rule\n",
    "    \n",
    "    def fit(self, X: pd.DataFrame):\n",
    "        self._X = X.copy()\n",
    "        self.feature_names_ = X.columns\n",
    "        self.generate_all_rules(X)\n",
    "        self.calculate_metrics()\n",
    "        self.association_rules_ = self.association_rules()"
   ]
  },
  {
   "cell_type": "markdown",
   "id": "ca9c7aef",
   "metadata": {
    "papermill": {
     "duration": 0.017033,
     "end_time": "2023-03-03T08:35:02.890644",
     "exception": false,
     "start_time": "2023-03-03T08:35:02.873611",
     "status": "completed"
    },
    "tags": []
   },
   "source": [
    "We then compare the model using the **train-test split**"
   ]
  },
  {
   "cell_type": "code",
   "execution_count": 42,
   "id": "17b1779c",
   "metadata": {
    "execution": {
     "iopub.execute_input": "2023-03-03T08:35:02.930883Z",
     "iopub.status.busy": "2023-03-03T08:35:02.930271Z",
     "iopub.status.idle": "2023-03-03T08:35:02.937641Z",
     "shell.execute_reply": "2023-03-03T08:35:02.935747Z"
    },
    "papermill": {
     "duration": 0.031558,
     "end_time": "2023-03-03T08:35:02.940958",
     "exception": false,
     "start_time": "2023-03-03T08:35:02.909400",
     "status": "completed"
    },
    "tags": []
   },
   "outputs": [],
   "source": [
    "from sklearn.model_selection import train_test_split"
   ]
  },
  {
   "cell_type": "code",
   "execution_count": 43,
   "id": "ed6b2996",
   "metadata": {
    "execution": {
     "iopub.execute_input": "2023-03-03T08:35:02.980453Z",
     "iopub.status.busy": "2023-03-03T08:35:02.979700Z",
     "iopub.status.idle": "2023-03-03T08:35:02.989770Z",
     "shell.execute_reply": "2023-03-03T08:35:02.987993Z"
    },
    "papermill": {
     "duration": 0.033587,
     "end_time": "2023-03-03T08:35:02.993093",
     "exception": false,
     "start_time": "2023-03-03T08:35:02.959506",
     "status": "completed"
    },
    "tags": []
   },
   "outputs": [],
   "source": [
    "train, test = train_test_split(basket_encoded, random_state=0)"
   ]
  },
  {
   "cell_type": "markdown",
   "id": "4ce02a10",
   "metadata": {
    "papermill": {
     "duration": 0.017217,
     "end_time": "2023-03-03T08:35:03.031933",
     "exception": false,
     "start_time": "2023-03-03T08:35:03.014716",
     "status": "completed"
    },
    "tags": []
   },
   "source": [
    "We then fit both models with the maximum number of items in the if condition of 4"
   ]
  },
  {
   "cell_type": "code",
   "execution_count": 44,
   "id": "5cadabcb",
   "metadata": {
    "execution": {
     "iopub.execute_input": "2023-03-03T08:35:03.076747Z",
     "iopub.status.busy": "2023-03-03T08:35:03.075763Z",
     "iopub.status.idle": "2023-03-03T08:35:03.382852Z",
     "shell.execute_reply": "2023-03-03T08:35:03.380723Z"
    },
    "papermill": {
     "duration": 0.334317,
     "end_time": "2023-03-03T08:35:03.386670",
     "exception": false,
     "start_time": "2023-03-03T08:35:03.052353",
     "status": "completed"
    },
    "tags": []
   },
   "outputs": [],
   "source": [
    "assotree = AssociationTree(0.003, 0.5, 3, 4)\n",
    "assotree.fit(train)"
   ]
  },
  {
   "cell_type": "code",
   "execution_count": 45,
   "id": "f1e085b7",
   "metadata": {
    "execution": {
     "iopub.execute_input": "2023-03-03T08:35:03.427187Z",
     "iopub.status.busy": "2023-03-03T08:35:03.426720Z",
     "iopub.status.idle": "2023-03-03T08:37:55.461510Z",
     "shell.execute_reply": "2023-03-03T08:37:55.459503Z"
    },
    "papermill": {
     "duration": 172.060175,
     "end_time": "2023-03-03T08:37:55.465308",
     "exception": false,
     "start_time": "2023-03-03T08:35:03.405133",
     "status": "completed"
    },
    "tags": []
   },
   "outputs": [],
   "source": [
    "asso = AssociaitionRulesModel(0.003, 0.5, 3, 5)\n",
    "asso.fit(train)"
   ]
  },
  {
   "cell_type": "markdown",
   "id": "69bab5e8",
   "metadata": {
    "papermill": {
     "duration": 0.018548,
     "end_time": "2023-03-03T08:37:55.502586",
     "exception": false,
     "start_time": "2023-03-03T08:37:55.484038",
     "status": "completed"
    },
    "tags": []
   },
   "source": [
    "We can see that the runtime of Association Rules with the Support of Decision Tree is significantly lower than the one without tree."
   ]
  },
  {
   "cell_type": "markdown",
   "id": "67403998",
   "metadata": {
    "papermill": {
     "duration": 0.019146,
     "end_time": "2023-03-03T08:37:55.540379",
     "exception": false,
     "start_time": "2023-03-03T08:37:55.521233",
     "status": "completed"
    },
    "tags": []
   },
   "source": [
    "We then obtain the accuracy (TBC) of each rule generated by the models"
   ]
  },
  {
   "cell_type": "code",
   "execution_count": 46,
   "id": "edc163d3",
   "metadata": {
    "execution": {
     "iopub.execute_input": "2023-03-03T08:37:55.583449Z",
     "iopub.status.busy": "2023-03-03T08:37:55.582097Z",
     "iopub.status.idle": "2023-03-03T08:37:55.616646Z",
     "shell.execute_reply": "2023-03-03T08:37:55.615512Z"
    },
    "papermill": {
     "duration": 0.061913,
     "end_time": "2023-03-03T08:37:55.620801",
     "exception": false,
     "start_time": "2023-03-03T08:37:55.558888",
     "status": "completed"
    },
    "tags": []
   },
   "outputs": [],
   "source": [
    "normal_model_accuracy = asso.accuracy(test)"
   ]
  },
  {
   "cell_type": "code",
   "execution_count": 47,
   "id": "b2d277ed",
   "metadata": {
    "execution": {
     "iopub.execute_input": "2023-03-03T08:37:55.662576Z",
     "iopub.status.busy": "2023-03-03T08:37:55.661267Z",
     "iopub.status.idle": "2023-03-03T08:37:55.682342Z",
     "shell.execute_reply": "2023-03-03T08:37:55.680355Z"
    },
    "papermill": {
     "duration": 0.044953,
     "end_time": "2023-03-03T08:37:55.685782",
     "exception": false,
     "start_time": "2023-03-03T08:37:55.640829",
     "status": "completed"
    },
    "tags": []
   },
   "outputs": [],
   "source": [
    "tree_model_accuracy = assotree.accuracy(test)"
   ]
  },
  {
   "cell_type": "code",
   "execution_count": 48,
   "id": "6938c39c",
   "metadata": {
    "execution": {
     "iopub.execute_input": "2023-03-03T08:37:55.724639Z",
     "iopub.status.busy": "2023-03-03T08:37:55.723788Z",
     "iopub.status.idle": "2023-03-03T08:37:55.732858Z",
     "shell.execute_reply": "2023-03-03T08:37:55.730993Z"
    },
    "papermill": {
     "duration": 0.031776,
     "end_time": "2023-03-03T08:37:55.735746",
     "exception": false,
     "start_time": "2023-03-03T08:37:55.703970",
     "status": "completed"
    },
    "tags": []
   },
   "outputs": [],
   "source": [
    "def get_average_parameters(list_rules):\n",
    "    avg_support = sum([x.support for x in list_rules]) / len(list_rules)\n",
    "    avg_confidence = sum([x.confidence for x in list_rules]) / len(list_rules)\n",
    "    avg_lift = sum([x.lift for x in list_rules]) / len(list_rules)\n",
    "    return {\n",
    "        'support': avg_support,\n",
    "        'confidence': avg_confidence,\n",
    "        'lift': avg_lift\n",
    "    }"
   ]
  },
  {
   "cell_type": "code",
   "execution_count": 49,
   "id": "42feb545",
   "metadata": {
    "execution": {
     "iopub.execute_input": "2023-03-03T08:37:55.776044Z",
     "iopub.status.busy": "2023-03-03T08:37:55.775581Z",
     "iopub.status.idle": "2023-03-03T08:37:55.784438Z",
     "shell.execute_reply": "2023-03-03T08:37:55.782951Z"
    },
    "papermill": {
     "duration": 0.032569,
     "end_time": "2023-03-03T08:37:55.787227",
     "exception": false,
     "start_time": "2023-03-03T08:37:55.754658",
     "status": "completed"
    },
    "tags": []
   },
   "outputs": [
    {
     "data": {
      "text/plain": [
       "{'support': 0.00230180397195011,\n",
       " 'confidence': 0.39017328825021136,\n",
       " 'lift': 2.039960278189935}"
      ]
     },
     "execution_count": 49,
     "metadata": {},
     "output_type": "execute_result"
    }
   ],
   "source": [
    "get_average_parameters(normal_model_accuracy)"
   ]
  },
  {
   "cell_type": "code",
   "execution_count": 50,
   "id": "62d87b5d",
   "metadata": {
    "execution": {
     "iopub.execute_input": "2023-03-03T08:37:55.825583Z",
     "iopub.status.busy": "2023-03-03T08:37:55.825161Z",
     "iopub.status.idle": "2023-03-03T08:37:55.834196Z",
     "shell.execute_reply": "2023-03-03T08:37:55.832783Z"
    },
    "papermill": {
     "duration": 0.03246,
     "end_time": "2023-03-03T08:37:55.837719",
     "exception": false,
     "start_time": "2023-03-03T08:37:55.805259",
     "status": "completed"
    },
    "tags": []
   },
   "outputs": [
    {
     "data": {
      "text/plain": [
       "{'support': 0.003479471120389701,\n",
       " 'confidence': 0.6777777777777779,\n",
       " 'lift': 3.483335536680522}"
      ]
     },
     "execution_count": 50,
     "metadata": {},
     "output_type": "execute_result"
    }
   ],
   "source": [
    "get_average_parameters(tree_model_accuracy)"
   ]
  },
  {
   "cell_type": "markdown",
   "id": "8d99af35",
   "metadata": {
    "papermill": {
     "duration": 0.017809,
     "end_time": "2023-03-03T08:37:55.873983",
     "exception": false,
     "start_time": "2023-03-03T08:37:55.856174",
     "status": "completed"
    },
    "tags": []
   },
   "source": [
    "We then see the rules of each model"
   ]
  },
  {
   "cell_type": "code",
   "execution_count": 51,
   "id": "1821e1f0",
   "metadata": {
    "execution": {
     "iopub.execute_input": "2023-03-03T08:37:55.912972Z",
     "iopub.status.busy": "2023-03-03T08:37:55.912555Z",
     "iopub.status.idle": "2023-03-03T08:37:55.941477Z",
     "shell.execute_reply": "2023-03-03T08:37:55.939794Z"
    },
    "papermill": {
     "duration": 0.052254,
     "end_time": "2023-03-03T08:37:55.944639",
     "exception": false,
     "start_time": "2023-03-03T08:37:55.892385",
     "status": "completed"
    },
    "tags": []
   },
   "outputs": [
    {
     "data": {
      "text/html": [
       "<div>\n",
       "<style scoped>\n",
       "    .dataframe tbody tr th:only-of-type {\n",
       "        vertical-align: middle;\n",
       "    }\n",
       "\n",
       "    .dataframe tbody tr th {\n",
       "        vertical-align: top;\n",
       "    }\n",
       "\n",
       "    .dataframe thead th {\n",
       "        text-align: right;\n",
       "    }\n",
       "</style>\n",
       "<table border=\"1\" class=\"dataframe\">\n",
       "  <thead>\n",
       "    <tr style=\"text-align: right;\">\n",
       "      <th></th>\n",
       "      <th>if_</th>\n",
       "      <th>then_</th>\n",
       "      <th>support</th>\n",
       "      <th>confidence</th>\n",
       "      <th>lift</th>\n",
       "    </tr>\n",
       "  </thead>\n",
       "  <tbody>\n",
       "    <tr>\n",
       "      <th>4</th>\n",
       "      <td>(spaghetti, chicken, olive oil)</td>\n",
       "      <td>(milk,)</td>\n",
       "      <td>0.003016</td>\n",
       "      <td>0.764706</td>\n",
       "      <td>4.721894</td>\n",
       "    </tr>\n",
       "    <tr>\n",
       "      <th>11</th>\n",
       "      <td>(spaghetti, frozen vegetables, mineral water, ...</td>\n",
       "      <td>(milk,)</td>\n",
       "      <td>0.003016</td>\n",
       "      <td>0.650000</td>\n",
       "      <td>4.013610</td>\n",
       "    </tr>\n",
       "    <tr>\n",
       "      <th>1</th>\n",
       "      <td>(frozen vegetables, mineral water, soup)</td>\n",
       "      <td>(milk,)</td>\n",
       "      <td>0.003712</td>\n",
       "      <td>0.571429</td>\n",
       "      <td>3.528449</td>\n",
       "    </tr>\n",
       "    <tr>\n",
       "      <th>6</th>\n",
       "      <td>(cookies, burgers)</td>\n",
       "      <td>(green tea,)</td>\n",
       "      <td>0.003712</td>\n",
       "      <td>0.533333</td>\n",
       "      <td>3.441118</td>\n",
       "    </tr>\n",
       "    <tr>\n",
       "      <th>2</th>\n",
       "      <td>(chicken, olive oil)</td>\n",
       "      <td>(milk,)</td>\n",
       "      <td>0.004640</td>\n",
       "      <td>0.555556</td>\n",
       "      <td>3.430436</td>\n",
       "    </tr>\n",
       "    <tr>\n",
       "      <th>9</th>\n",
       "      <td>(spaghetti, frozen vegetables, eggs)</td>\n",
       "      <td>(milk,)</td>\n",
       "      <td>0.004408</td>\n",
       "      <td>0.542857</td>\n",
       "      <td>3.352026</td>\n",
       "    </tr>\n",
       "    <tr>\n",
       "      <th>10</th>\n",
       "      <td>(frozen vegetables, ground beef, eggs)</td>\n",
       "      <td>(milk,)</td>\n",
       "      <td>0.003016</td>\n",
       "      <td>0.541667</td>\n",
       "      <td>3.344675</td>\n",
       "    </tr>\n",
       "    <tr>\n",
       "      <th>12</th>\n",
       "      <td>(frozen vegetables, mineral water, turkey)</td>\n",
       "      <td>(milk,)</td>\n",
       "      <td>0.003016</td>\n",
       "      <td>0.541667</td>\n",
       "      <td>3.344675</td>\n",
       "    </tr>\n",
       "    <tr>\n",
       "      <th>5</th>\n",
       "      <td>(frozen vegetables, ground beef, olive oil)</td>\n",
       "      <td>(spaghetti,)</td>\n",
       "      <td>0.003248</td>\n",
       "      <td>0.700000</td>\n",
       "      <td>3.261622</td>\n",
       "    </tr>\n",
       "    <tr>\n",
       "      <th>8</th>\n",
       "      <td>(frozen vegetables, ground beef, shrimp)</td>\n",
       "      <td>(spaghetti,)</td>\n",
       "      <td>0.003248</td>\n",
       "      <td>0.700000</td>\n",
       "      <td>3.261622</td>\n",
       "    </tr>\n",
       "    <tr>\n",
       "      <th>0</th>\n",
       "      <td>(frozen vegetables, mineral water, olive oil)</td>\n",
       "      <td>(milk,)</td>\n",
       "      <td>0.004408</td>\n",
       "      <td>0.527778</td>\n",
       "      <td>3.258914</td>\n",
       "    </tr>\n",
       "    <tr>\n",
       "      <th>7</th>\n",
       "      <td>(cooking oil, mineral water, ground beef)</td>\n",
       "      <td>(spaghetti,)</td>\n",
       "      <td>0.003016</td>\n",
       "      <td>0.684211</td>\n",
       "      <td>3.188051</td>\n",
       "    </tr>\n",
       "    <tr>\n",
       "      <th>3</th>\n",
       "      <td>(chicken, olive oil, milk)</td>\n",
       "      <td>(spaghetti,)</td>\n",
       "      <td>0.003016</td>\n",
       "      <td>0.650000</td>\n",
       "      <td>3.028649</td>\n",
       "    </tr>\n",
       "  </tbody>\n",
       "</table>\n",
       "</div>"
      ],
      "text/plain": [
       "                                                  if_         then_   support  \\\n",
       "4                     (spaghetti, chicken, olive oil)       (milk,)  0.003016   \n",
       "11  (spaghetti, frozen vegetables, mineral water, ...       (milk,)  0.003016   \n",
       "1            (frozen vegetables, mineral water, soup)       (milk,)  0.003712   \n",
       "6                                  (cookies, burgers)  (green tea,)  0.003712   \n",
       "2                                (chicken, olive oil)       (milk,)  0.004640   \n",
       "9                (spaghetti, frozen vegetables, eggs)       (milk,)  0.004408   \n",
       "10             (frozen vegetables, ground beef, eggs)       (milk,)  0.003016   \n",
       "12         (frozen vegetables, mineral water, turkey)       (milk,)  0.003016   \n",
       "5         (frozen vegetables, ground beef, olive oil)  (spaghetti,)  0.003248   \n",
       "8            (frozen vegetables, ground beef, shrimp)  (spaghetti,)  0.003248   \n",
       "0       (frozen vegetables, mineral water, olive oil)       (milk,)  0.004408   \n",
       "7           (cooking oil, mineral water, ground beef)  (spaghetti,)  0.003016   \n",
       "3                          (chicken, olive oil, milk)  (spaghetti,)  0.003016   \n",
       "\n",
       "    confidence      lift  \n",
       "4     0.764706  4.721894  \n",
       "11    0.650000  4.013610  \n",
       "1     0.571429  3.528449  \n",
       "6     0.533333  3.441118  \n",
       "2     0.555556  3.430436  \n",
       "9     0.542857  3.352026  \n",
       "10    0.541667  3.344675  \n",
       "12    0.541667  3.344675  \n",
       "5     0.700000  3.261622  \n",
       "8     0.700000  3.261622  \n",
       "0     0.527778  3.258914  \n",
       "7     0.684211  3.188051  \n",
       "3     0.650000  3.028649  "
      ]
     },
     "execution_count": 51,
     "metadata": {},
     "output_type": "execute_result"
    }
   ],
   "source": [
    "pd.DataFrame(asso.association_rules_).sort_values(by='lift', ascending=False)"
   ]
  },
  {
   "cell_type": "code",
   "execution_count": 52,
   "id": "bde9c2e2",
   "metadata": {
    "execution": {
     "iopub.execute_input": "2023-03-03T08:37:55.986054Z",
     "iopub.status.busy": "2023-03-03T08:37:55.985567Z",
     "iopub.status.idle": "2023-03-03T08:37:56.004627Z",
     "shell.execute_reply": "2023-03-03T08:37:56.002441Z"
    },
    "papermill": {
     "duration": 0.044455,
     "end_time": "2023-03-03T08:37:56.007959",
     "exception": false,
     "start_time": "2023-03-03T08:37:55.963504",
     "status": "completed"
    },
    "tags": []
   },
   "outputs": [
    {
     "data": {
      "text/html": [
       "<div>\n",
       "<style scoped>\n",
       "    .dataframe tbody tr th:only-of-type {\n",
       "        vertical-align: middle;\n",
       "    }\n",
       "\n",
       "    .dataframe tbody tr th {\n",
       "        vertical-align: top;\n",
       "    }\n",
       "\n",
       "    .dataframe thead th {\n",
       "        text-align: right;\n",
       "    }\n",
       "</style>\n",
       "<table border=\"1\" class=\"dataframe\">\n",
       "  <thead>\n",
       "    <tr style=\"text-align: right;\">\n",
       "      <th></th>\n",
       "      <th>if_</th>\n",
       "      <th>then_</th>\n",
       "      <th>support</th>\n",
       "      <th>confidence</th>\n",
       "      <th>lift</th>\n",
       "    </tr>\n",
       "  </thead>\n",
       "  <tbody>\n",
       "    <tr>\n",
       "      <th>2</th>\n",
       "      <td>(frozen vegetables, mineral water, soup)</td>\n",
       "      <td>(milk,)</td>\n",
       "      <td>0.003712</td>\n",
       "      <td>0.571429</td>\n",
       "      <td>3.528449</td>\n",
       "    </tr>\n",
       "    <tr>\n",
       "      <th>1</th>\n",
       "      <td>(burgers, cookies)</td>\n",
       "      <td>(green tea,)</td>\n",
       "      <td>0.003712</td>\n",
       "      <td>0.533333</td>\n",
       "      <td>3.441118</td>\n",
       "    </tr>\n",
       "    <tr>\n",
       "      <th>0</th>\n",
       "      <td>(shrimp, frozen vegetables, ground beef)</td>\n",
       "      <td>(spaghetti,)</td>\n",
       "      <td>0.003248</td>\n",
       "      <td>0.700000</td>\n",
       "      <td>3.261622</td>\n",
       "    </tr>\n",
       "  </tbody>\n",
       "</table>\n",
       "</div>"
      ],
      "text/plain": [
       "                                        if_         then_   support  \\\n",
       "2  (frozen vegetables, mineral water, soup)       (milk,)  0.003712   \n",
       "1                        (burgers, cookies)  (green tea,)  0.003712   \n",
       "0  (shrimp, frozen vegetables, ground beef)  (spaghetti,)  0.003248   \n",
       "\n",
       "   confidence      lift  \n",
       "2    0.571429  3.528449  \n",
       "1    0.533333  3.441118  \n",
       "0    0.700000  3.261622  "
      ]
     },
     "execution_count": 52,
     "metadata": {},
     "output_type": "execute_result"
    }
   ],
   "source": [
    "pd.DataFrame(assotree.association_rules_).sort_values(by='lift', ascending=False)"
   ]
  },
  {
   "cell_type": "markdown",
   "id": "5b214668",
   "metadata": {
    "papermill": {
     "duration": 0.018926,
     "end_time": "2023-03-03T08:37:56.045707",
     "exception": false,
     "start_time": "2023-03-03T08:37:56.026781",
     "status": "completed"
    },
    "tags": []
   },
   "source": [
    "Let me know what you think!"
   ]
  },
  {
   "cell_type": "markdown",
   "id": "04b4cdfd",
   "metadata": {
    "papermill": {
     "duration": 0.018236,
     "end_time": "2023-03-03T08:37:56.083076",
     "exception": false,
     "start_time": "2023-03-03T08:37:56.064840",
     "status": "completed"
    },
    "tags": []
   },
   "source": [
    "---"
   ]
  }
 ],
 "metadata": {
  "kernelspec": {
   "display_name": "Python 3",
   "language": "python",
   "name": "python3"
  },
  "language_info": {
   "codemirror_mode": {
    "name": "ipython",
    "version": 3
   },
   "file_extension": ".py",
   "mimetype": "text/x-python",
   "name": "python",
   "nbconvert_exporter": "python",
   "pygments_lexer": "ipython3",
   "version": "3.10.4"
  },
  "papermill": {
   "default_parameters": {},
   "duration": 201.50868,
   "end_time": "2023-03-03T08:37:58.730867",
   "environment_variables": {},
   "exception": null,
   "input_path": "__notebook__.ipynb",
   "output_path": "__notebook__.ipynb",
   "parameters": {},
   "start_time": "2023-03-03T08:34:37.222187",
   "version": "2.4.0"
  }
 },
 "nbformat": 4,
 "nbformat_minor": 5
}
